{
 "cells": [
  {
   "cell_type": "code",
   "execution_count": 1,
   "metadata": {},
   "outputs": [],
   "source": [
    "import csv\n",
    "\n",
    "import numpy as np\n",
    "import tensorflow as tf\n",
    "from sklearn.model_selection import train_test_split\n",
    "\n",
    "RANDOM_SEED = 42"
   ]
  },
  {
   "cell_type": "markdown",
   "metadata": {},
   "source": [
    "# 各パス指定"
   ]
  },
  {
   "cell_type": "code",
   "execution_count": 2,
   "metadata": {},
   "outputs": [],
   "source": [
    "dataset = 'model/point_history_classifier/point_history.csv'\n",
    "model_save_path = 'model/point_history_classifier/point_history_classifier.hdf5'"
   ]
  },
  {
   "cell_type": "markdown",
   "metadata": {},
   "source": [
    "# 分類数設定"
   ]
  },
  {
   "cell_type": "code",
   "execution_count": 3,
   "metadata": {},
   "outputs": [],
   "source": [
    "NUM_CLASSES = 4"
   ]
  },
  {
   "cell_type": "markdown",
   "metadata": {},
   "source": [
    "# 入力長"
   ]
  },
  {
   "cell_type": "code",
   "execution_count": 4,
   "metadata": {},
   "outputs": [],
   "source": [
    "TIME_STEPS = 16\n",
    "DIMENSION = 2"
   ]
  },
  {
   "cell_type": "markdown",
   "metadata": {},
   "source": [
    "# 学習データ読み込み"
   ]
  },
  {
   "cell_type": "code",
   "execution_count": 5,
   "metadata": {},
   "outputs": [],
   "source": [
    "X_dataset = np.loadtxt(dataset, delimiter=',', dtype='float32', usecols=list(range(1, (TIME_STEPS * DIMENSION) + 1)))"
   ]
  },
  {
   "cell_type": "code",
   "execution_count": 6,
   "metadata": {},
   "outputs": [],
   "source": [
    "y_dataset = np.loadtxt(dataset, delimiter=',', dtype='int32', usecols=(0))"
   ]
  },
  {
   "cell_type": "code",
   "execution_count": 7,
   "metadata": {},
   "outputs": [],
   "source": [
    "X_train, X_test, y_train, y_test = train_test_split(X_dataset, y_dataset, train_size=0.75, random_state=RANDOM_SEED)"
   ]
  },
  {
   "cell_type": "markdown",
   "metadata": {},
   "source": [
    "# モデル構築"
   ]
  },
  {
   "cell_type": "code",
   "execution_count": 8,
   "metadata": {},
   "outputs": [],
   "source": [
    "use_lstm = False\n",
    "model = None\n",
    "\n",
    "if use_lstm:\n",
    "    model = tf.keras.models.Sequential([\n",
    "        tf.keras.layers.InputLayer(input_shape=(TIME_STEPS * DIMENSION, )),\n",
    "        tf.keras.layers.Reshape((TIME_STEPS, DIMENSION), input_shape=(TIME_STEPS * DIMENSION, )), \n",
    "        tf.keras.layers.Dropout(0.2),\n",
    "        tf.keras.layers.LSTM(16, input_shape=[TIME_STEPS, DIMENSION]),\n",
    "        tf.keras.layers.Dropout(0.5),\n",
    "        tf.keras.layers.Dense(10, activation='relu'),\n",
    "        tf.keras.layers.Dense(NUM_CLASSES, activation='softmax')\n",
    "    ])\n",
    "else:\n",
    "    model = tf.keras.models.Sequential([\n",
    "        tf.keras.layers.InputLayer(input_shape=(TIME_STEPS * DIMENSION, )),\n",
    "        tf.keras.layers.Dropout(0.2),\n",
    "        tf.keras.layers.Dense(24, activation='relu'),\n",
    "        tf.keras.layers.Dropout(0.5),\n",
    "        tf.keras.layers.Dense(10, activation='relu'),\n",
    "        tf.keras.layers.Dense(NUM_CLASSES, activation='softmax')\n",
    "    ])"
   ]
  },
  {
   "cell_type": "code",
   "execution_count": 9,
   "metadata": {},
   "outputs": [
    {
     "name": "stdout",
     "output_type": "stream",
     "text": [
      "Model: \"sequential\"\n",
      "_________________________________________________________________\n",
      " Layer (type)                Output Shape              Param #   \n",
      "=================================================================\n",
      " dropout (Dropout)           (None, 32)                0         \n",
      "                                                                 \n",
      " dense (Dense)               (None, 24)                792       \n",
      "                                                                 \n",
      " dropout_1 (Dropout)         (None, 24)                0         \n",
      "                                                                 \n",
      " dense_1 (Dense)             (None, 10)                250       \n",
      "                                                                 \n",
      " dense_2 (Dense)             (None, 4)                 44        \n",
      "                                                                 \n",
      "=================================================================\n",
      "Total params: 1,086\n",
      "Trainable params: 1,086\n",
      "Non-trainable params: 0\n",
      "_________________________________________________________________\n"
     ]
    }
   ],
   "source": [
    "model.summary()  # tf.keras.utils.plot_model(model, show_shapes=True)"
   ]
  },
  {
   "cell_type": "code",
   "execution_count": 10,
   "metadata": {},
   "outputs": [],
   "source": [
    "# モデルチェックポイントのコールバック\n",
    "cp_callback = tf.keras.callbacks.ModelCheckpoint(\n",
    "    model_save_path, verbose=1, save_weights_only=False)\n",
    "# 早期打ち切り用コールバック\n",
    "es_callback = tf.keras.callbacks.EarlyStopping(patience=20, verbose=1)"
   ]
  },
  {
   "cell_type": "code",
   "execution_count": 11,
   "metadata": {},
   "outputs": [],
   "source": [
    "# モデルコンパイル\n",
    "model.compile(\n",
    "    optimizer='adam',\n",
    "    loss='sparse_categorical_crossentropy',\n",
    "    metrics=['accuracy']\n",
    ")"
   ]
  },
  {
   "cell_type": "markdown",
   "metadata": {},
   "source": [
    "# モデル訓練"
   ]
  },
  {
   "cell_type": "code",
   "execution_count": 12,
   "metadata": {
    "scrolled": true
   },
   "outputs": [
    {
     "name": "stdout",
     "output_type": "stream",
     "text": [
      "Epoch 1/1000\n",
      "16/25 [==================>...........] - ETA: 0s - loss: 1.3798 - accuracy: 0.3857 \n",
      "Epoch 1: saving model to model/point_history_classifier\\point_history_classifier.hdf5\n",
      "25/25 [==============================] - 1s 22ms/step - loss: 1.3718 - accuracy: 0.4296 - val_loss: 1.3459 - val_accuracy: 0.7724\n",
      "Epoch 2/1000\n",
      "13/25 [==============>...............] - ETA: 0s - loss: 1.3377 - accuracy: 0.5625\n",
      "Epoch 2: saving model to model/point_history_classifier\\point_history_classifier.hdf5\n",
      "25/25 [==============================] - 0s 9ms/step - loss: 1.3283 - accuracy: 0.5710 - val_loss: 1.3061 - val_accuracy: 0.8423\n",
      "Epoch 3/1000\n",
      "15/25 [=================>............] - ETA: 0s - loss: 1.3003 - accuracy: 0.6391\n",
      "Epoch 3: saving model to model/point_history_classifier\\point_history_classifier.hdf5\n",
      "25/25 [==============================] - 0s 10ms/step - loss: 1.2908 - accuracy: 0.6507 - val_loss: 1.2671 - val_accuracy: 0.8414\n",
      "Epoch 4/1000\n",
      "25/25 [==============================] - ETA: 0s - loss: 1.2496 - accuracy: 0.6819\n",
      "Epoch 4: saving model to model/point_history_classifier\\point_history_classifier.hdf5\n",
      "25/25 [==============================] - 0s 10ms/step - loss: 1.2496 - accuracy: 0.6819 - val_loss: 1.2246 - val_accuracy: 0.8631\n",
      "Epoch 5/1000\n",
      "22/25 [=========================>....] - ETA: 0s - loss: 1.2094 - accuracy: 0.7095\n",
      "Epoch 5: saving model to model/point_history_classifier\\point_history_classifier.hdf5\n",
      "25/25 [==============================] - 0s 11ms/step - loss: 1.2075 - accuracy: 0.7140 - val_loss: 1.1758 - val_accuracy: 0.8697\n",
      "Epoch 6/1000\n",
      "13/25 [==============>...............] - ETA: 0s - loss: 1.1747 - accuracy: 0.7272\n",
      "Epoch 6: saving model to model/point_history_classifier\\point_history_classifier.hdf5\n",
      "25/25 [==============================] - 0s 10ms/step - loss: 1.1634 - accuracy: 0.7269 - val_loss: 1.1203 - val_accuracy: 0.8650\n",
      "Epoch 7/1000\n",
      "12/25 [=============>................] - ETA: 0s - loss: 1.1245 - accuracy: 0.7337\n",
      "Epoch 7: saving model to model/point_history_classifier\\point_history_classifier.hdf5\n",
      "25/25 [==============================] - 0s 10ms/step - loss: 1.1121 - accuracy: 0.7348 - val_loss: 1.0565 - val_accuracy: 0.8744\n",
      "Epoch 8/1000\n",
      "13/25 [==============>...............] - ETA: 0s - loss: 1.0691 - accuracy: 0.7356\n",
      "Epoch 8: saving model to model/point_history_classifier\\point_history_classifier.hdf5\n",
      "25/25 [==============================] - 0s 10ms/step - loss: 1.0558 - accuracy: 0.7310 - val_loss: 0.9850 - val_accuracy: 0.8706\n",
      "Epoch 9/1000\n",
      "13/25 [==============>...............] - ETA: 0s - loss: 1.0046 - accuracy: 0.7392\n",
      "Epoch 9: saving model to model/point_history_classifier\\point_history_classifier.hdf5\n",
      "25/25 [==============================] - 0s 9ms/step - loss: 0.9917 - accuracy: 0.7326 - val_loss: 0.9029 - val_accuracy: 0.8725\n",
      "Epoch 10/1000\n",
      "12/25 [=============>................] - ETA: 0s - loss: 0.9479 - accuracy: 0.7357\n",
      "Epoch 10: saving model to model/point_history_classifier\\point_history_classifier.hdf5\n",
      "25/25 [==============================] - 0s 10ms/step - loss: 0.9332 - accuracy: 0.7395 - val_loss: 0.8175 - val_accuracy: 0.8754\n",
      "Epoch 11/1000\n",
      "13/25 [==============>...............] - ETA: 0s - loss: 0.8842 - accuracy: 0.7512\n",
      "Epoch 11: saving model to model/point_history_classifier\\point_history_classifier.hdf5\n",
      "25/25 [==============================] - 0s 13ms/step - loss: 0.8692 - accuracy: 0.7553 - val_loss: 0.7381 - val_accuracy: 0.8772\n",
      "Epoch 12/1000\n",
      "23/25 [==========================>...] - ETA: 0s - loss: 0.8104 - accuracy: 0.7816\n",
      "Epoch 12: saving model to model/point_history_classifier\\point_history_classifier.hdf5\n",
      "25/25 [==============================] - 1s 26ms/step - loss: 0.8069 - accuracy: 0.7830 - val_loss: 0.6634 - val_accuracy: 0.8952\n",
      "Epoch 13/1000\n",
      "22/25 [=========================>....] - ETA: 0s - loss: 0.7547 - accuracy: 0.7873\n",
      "Epoch 13: saving model to model/point_history_classifier\\point_history_classifier.hdf5\n",
      "25/25 [==============================] - 0s 12ms/step - loss: 0.7585 - accuracy: 0.7811 - val_loss: 0.5972 - val_accuracy: 0.9084\n",
      "Epoch 14/1000\n",
      "20/25 [=======================>......] - ETA: 0s - loss: 0.7289 - accuracy: 0.7801\n",
      "Epoch 14: saving model to model/point_history_classifier\\point_history_classifier.hdf5\n",
      "25/25 [==============================] - 0s 11ms/step - loss: 0.7221 - accuracy: 0.7811 - val_loss: 0.5478 - val_accuracy: 0.9178\n",
      "Epoch 15/1000\n",
      "24/25 [===========================>..] - ETA: 0s - loss: 0.6855 - accuracy: 0.7979\n",
      "Epoch 15: saving model to model/point_history_classifier\\point_history_classifier.hdf5\n",
      "25/25 [==============================] - 0s 10ms/step - loss: 0.6837 - accuracy: 0.7984 - val_loss: 0.4970 - val_accuracy: 0.9245\n",
      "Epoch 16/1000\n",
      "14/25 [===============>..............] - ETA: 0s - loss: 0.6490 - accuracy: 0.7946\n",
      "Epoch 16: saving model to model/point_history_classifier\\point_history_classifier.hdf5\n",
      "25/25 [==============================] - 0s 9ms/step - loss: 0.6334 - accuracy: 0.8072 - val_loss: 0.4545 - val_accuracy: 0.9292\n",
      "Epoch 17/1000\n",
      "25/25 [==============================] - ETA: 0s - loss: 0.6106 - accuracy: 0.8154\n",
      "Epoch 17: saving model to model/point_history_classifier\\point_history_classifier.hdf5\n",
      "25/25 [==============================] - 0s 10ms/step - loss: 0.6106 - accuracy: 0.8154 - val_loss: 0.4194 - val_accuracy: 0.9377\n",
      "Epoch 18/1000\n",
      "20/25 [=======================>......] - ETA: 0s - loss: 0.6024 - accuracy: 0.8184\n",
      "Epoch 18: saving model to model/point_history_classifier\\point_history_classifier.hdf5\n",
      "25/25 [==============================] - 0s 12ms/step - loss: 0.5971 - accuracy: 0.8192 - val_loss: 0.3925 - val_accuracy: 0.9443\n",
      "Epoch 19/1000\n",
      "13/25 [==============>...............] - ETA: 0s - loss: 0.5528 - accuracy: 0.8474\n",
      "Epoch 19: saving model to model/point_history_classifier\\point_history_classifier.hdf5\n",
      "25/25 [==============================] - 0s 9ms/step - loss: 0.5538 - accuracy: 0.8375 - val_loss: 0.3628 - val_accuracy: 0.9443\n",
      "Epoch 20/1000\n",
      "12/25 [=============>................] - ETA: 0s - loss: 0.5723 - accuracy: 0.8145\n",
      "Epoch 20: saving model to model/point_history_classifier\\point_history_classifier.hdf5\n",
      "25/25 [==============================] - 0s 9ms/step - loss: 0.5527 - accuracy: 0.8255 - val_loss: 0.3449 - val_accuracy: 0.9481\n",
      "Epoch 21/1000\n",
      "16/25 [==================>...........] - ETA: 0s - loss: 0.5494 - accuracy: 0.8232\n",
      "Epoch 21: saving model to model/point_history_classifier\\point_history_classifier.hdf5\n",
      "25/25 [==============================] - 0s 8ms/step - loss: 0.5375 - accuracy: 0.8249 - val_loss: 0.3234 - val_accuracy: 0.9547\n",
      "Epoch 22/1000\n",
      "25/25 [==============================] - ETA: 0s - loss: 0.5235 - accuracy: 0.8340\n",
      "Epoch 22: saving model to model/point_history_classifier\\point_history_classifier.hdf5\n",
      "25/25 [==============================] - 0s 10ms/step - loss: 0.5235 - accuracy: 0.8340 - val_loss: 0.3084 - val_accuracy: 0.9566\n",
      "Epoch 23/1000\n",
      "13/25 [==============>...............] - ETA: 0s - loss: 0.5165 - accuracy: 0.8395\n",
      "Epoch 23: saving model to model/point_history_classifier\\point_history_classifier.hdf5\n",
      "25/25 [==============================] - 0s 9ms/step - loss: 0.5075 - accuracy: 0.8403 - val_loss: 0.2911 - val_accuracy: 0.9585\n",
      "Epoch 24/1000\n",
      "13/25 [==============>...............] - ETA: 0s - loss: 0.4745 - accuracy: 0.8486\n",
      "Epoch 24: saving model to model/point_history_classifier\\point_history_classifier.hdf5\n",
      "25/25 [==============================] - 0s 8ms/step - loss: 0.4771 - accuracy: 0.8479 - val_loss: 0.2781 - val_accuracy: 0.9594\n",
      "Epoch 25/1000\n",
      "16/25 [==================>...........] - ETA: 0s - loss: 0.4846 - accuracy: 0.8418\n",
      "Epoch 25: saving model to model/point_history_classifier\\point_history_classifier.hdf5\n",
      "25/25 [==============================] - 0s 9ms/step - loss: 0.4840 - accuracy: 0.8413 - val_loss: 0.2634 - val_accuracy: 0.9613\n",
      "Epoch 26/1000\n",
      "14/25 [===============>..............] - ETA: 0s - loss: 0.4793 - accuracy: 0.8527\n",
      "Epoch 26: saving model to model/point_history_classifier\\point_history_classifier.hdf5\n",
      "25/25 [==============================] - 0s 9ms/step - loss: 0.4592 - accuracy: 0.8589 - val_loss: 0.2568 - val_accuracy: 0.9603\n",
      "Epoch 27/1000\n"
     ]
    },
    {
     "name": "stdout",
     "output_type": "stream",
     "text": [
      "13/25 [==============>...............] - ETA: 0s - loss: 0.4386 - accuracy: 0.8588\n",
      "Epoch 27: saving model to model/point_history_classifier\\point_history_classifier.hdf5\n",
      "25/25 [==============================] - 0s 9ms/step - loss: 0.4342 - accuracy: 0.8624 - val_loss: 0.2420 - val_accuracy: 0.9613\n",
      "Epoch 28/1000\n",
      "17/25 [===================>..........] - ETA: 0s - loss: 0.4152 - accuracy: 0.8704\n",
      "Epoch 28: saving model to model/point_history_classifier\\point_history_classifier.hdf5\n",
      "25/25 [==============================] - 0s 8ms/step - loss: 0.4305 - accuracy: 0.8598 - val_loss: 0.2309 - val_accuracy: 0.9622\n",
      "Epoch 29/1000\n",
      "24/25 [===========================>..] - ETA: 0s - loss: 0.4132 - accuracy: 0.8711\n",
      "Epoch 29: saving model to model/point_history_classifier\\point_history_classifier.hdf5\n",
      "25/25 [==============================] - 0s 10ms/step - loss: 0.4148 - accuracy: 0.8709 - val_loss: 0.2244 - val_accuracy: 0.9651\n",
      "Epoch 30/1000\n",
      "12/25 [=============>................] - ETA: 0s - loss: 0.4213 - accuracy: 0.8626\n",
      "Epoch 30: saving model to model/point_history_classifier\\point_history_classifier.hdf5\n",
      "25/25 [==============================] - 0s 9ms/step - loss: 0.4074 - accuracy: 0.8643 - val_loss: 0.2175 - val_accuracy: 0.9651\n",
      "Epoch 31/1000\n",
      "15/25 [=================>............] - ETA: 0s - loss: 0.3875 - accuracy: 0.8797\n",
      "Epoch 31: saving model to model/point_history_classifier\\point_history_classifier.hdf5\n",
      "25/25 [==============================] - 0s 8ms/step - loss: 0.4008 - accuracy: 0.8715 - val_loss: 0.2076 - val_accuracy: 0.9669\n",
      "Epoch 32/1000\n",
      "15/25 [=================>............] - ETA: 0s - loss: 0.4266 - accuracy: 0.8573\n",
      "Epoch 32: saving model to model/point_history_classifier\\point_history_classifier.hdf5\n",
      "25/25 [==============================] - 0s 8ms/step - loss: 0.4091 - accuracy: 0.8677 - val_loss: 0.2068 - val_accuracy: 0.9651\n",
      "Epoch 33/1000\n",
      "15/25 [=================>............] - ETA: 0s - loss: 0.3991 - accuracy: 0.8734\n",
      "Epoch 33: saving model to model/point_history_classifier\\point_history_classifier.hdf5\n",
      "25/25 [==============================] - 0s 8ms/step - loss: 0.4095 - accuracy: 0.8665 - val_loss: 0.2015 - val_accuracy: 0.9679\n",
      "Epoch 34/1000\n",
      "14/25 [===============>..............] - ETA: 0s - loss: 0.3924 - accuracy: 0.8744\n",
      "Epoch 34: saving model to model/point_history_classifier\\point_history_classifier.hdf5\n",
      "25/25 [==============================] - 0s 8ms/step - loss: 0.3915 - accuracy: 0.8750 - val_loss: 0.1976 - val_accuracy: 0.9660\n",
      "Epoch 35/1000\n",
      "15/25 [=================>............] - ETA: 0s - loss: 0.3812 - accuracy: 0.8714\n",
      "Epoch 35: saving model to model/point_history_classifier\\point_history_classifier.hdf5\n",
      "25/25 [==============================] - 0s 8ms/step - loss: 0.3741 - accuracy: 0.8791 - val_loss: 0.1889 - val_accuracy: 0.9707\n",
      "Epoch 36/1000\n",
      "16/25 [==================>...........] - ETA: 0s - loss: 0.3563 - accuracy: 0.8882\n",
      "Epoch 36: saving model to model/point_history_classifier\\point_history_classifier.hdf5\n",
      "25/25 [==============================] - 0s 8ms/step - loss: 0.3629 - accuracy: 0.8854 - val_loss: 0.1859 - val_accuracy: 0.9688\n",
      "Epoch 37/1000\n",
      "15/25 [=================>............] - ETA: 0s - loss: 0.3903 - accuracy: 0.8693\n",
      "Epoch 37: saving model to model/point_history_classifier\\point_history_classifier.hdf5\n",
      "25/25 [==============================] - 0s 8ms/step - loss: 0.3650 - accuracy: 0.8803 - val_loss: 0.1814 - val_accuracy: 0.9736\n",
      "Epoch 38/1000\n",
      "16/25 [==================>...........] - ETA: 0s - loss: 0.3771 - accuracy: 0.8750\n",
      "Epoch 38: saving model to model/point_history_classifier\\point_history_classifier.hdf5\n",
      "25/25 [==============================] - 0s 8ms/step - loss: 0.3802 - accuracy: 0.8765 - val_loss: 0.1779 - val_accuracy: 0.9736\n",
      "Epoch 39/1000\n",
      "14/25 [===============>..............] - ETA: 0s - loss: 0.3403 - accuracy: 0.8895\n",
      "Epoch 39: saving model to model/point_history_classifier\\point_history_classifier.hdf5\n",
      "25/25 [==============================] - 0s 9ms/step - loss: 0.3659 - accuracy: 0.8787 - val_loss: 0.1745 - val_accuracy: 0.9726\n",
      "Epoch 40/1000\n",
      "14/25 [===============>..............] - ETA: 0s - loss: 0.3688 - accuracy: 0.8834\n",
      "Epoch 40: saving model to model/point_history_classifier\\point_history_classifier.hdf5\n",
      "25/25 [==============================] - 0s 8ms/step - loss: 0.3651 - accuracy: 0.8828 - val_loss: 0.1734 - val_accuracy: 0.9745\n",
      "Epoch 41/1000\n",
      "24/25 [===========================>..] - ETA: 0s - loss: 0.3446 - accuracy: 0.8906\n",
      "Epoch 41: saving model to model/point_history_classifier\\point_history_classifier.hdf5\n",
      "25/25 [==============================] - 0s 10ms/step - loss: 0.3464 - accuracy: 0.8891 - val_loss: 0.1663 - val_accuracy: 0.9745\n",
      "Epoch 42/1000\n",
      "14/25 [===============>..............] - ETA: 0s - loss: 0.3769 - accuracy: 0.8783\n",
      "Epoch 42: saving model to model/point_history_classifier\\point_history_classifier.hdf5\n",
      "25/25 [==============================] - 0s 9ms/step - loss: 0.3667 - accuracy: 0.8813 - val_loss: 0.1691 - val_accuracy: 0.9736\n",
      "Epoch 43/1000\n",
      "15/25 [=================>............] - ETA: 0s - loss: 0.3541 - accuracy: 0.8906\n",
      "Epoch 43: saving model to model/point_history_classifier\\point_history_classifier.hdf5\n",
      "25/25 [==============================] - 0s 8ms/step - loss: 0.3420 - accuracy: 0.8920 - val_loss: 0.1657 - val_accuracy: 0.9745\n",
      "Epoch 44/1000\n",
      "13/25 [==============>...............] - ETA: 0s - loss: 0.3194 - accuracy: 0.8960\n",
      "Epoch 44: saving model to model/point_history_classifier\\point_history_classifier.hdf5\n",
      "25/25 [==============================] - 0s 8ms/step - loss: 0.3288 - accuracy: 0.8907 - val_loss: 0.1586 - val_accuracy: 0.9754\n",
      "Epoch 45/1000\n",
      "15/25 [=================>............] - ETA: 0s - loss: 0.3358 - accuracy: 0.8859\n",
      "Epoch 45: saving model to model/point_history_classifier\\point_history_classifier.hdf5\n",
      "25/25 [==============================] - 0s 8ms/step - loss: 0.3343 - accuracy: 0.8882 - val_loss: 0.1567 - val_accuracy: 0.9754\n",
      "Epoch 46/1000\n",
      "17/25 [===================>..........] - ETA: 0s - loss: 0.3227 - accuracy: 0.8879\n",
      "Epoch 46: saving model to model/point_history_classifier\\point_history_classifier.hdf5\n",
      "25/25 [==============================] - 0s 9ms/step - loss: 0.3180 - accuracy: 0.8923 - val_loss: 0.1553 - val_accuracy: 0.9745\n",
      "Epoch 47/1000\n",
      "24/25 [===========================>..] - ETA: 0s - loss: 0.3339 - accuracy: 0.8903\n",
      "Epoch 47: saving model to model/point_history_classifier\\point_history_classifier.hdf5\n",
      "25/25 [==============================] - 0s 10ms/step - loss: 0.3317 - accuracy: 0.8917 - val_loss: 0.1539 - val_accuracy: 0.9764\n",
      "Epoch 48/1000\n",
      "17/25 [===================>..........] - ETA: 0s - loss: 0.3039 - accuracy: 0.9007\n",
      "Epoch 48: saving model to model/point_history_classifier\\point_history_classifier.hdf5\n",
      "25/25 [==============================] - 0s 9ms/step - loss: 0.3028 - accuracy: 0.9002 - val_loss: 0.1490 - val_accuracy: 0.9754\n",
      "Epoch 49/1000\n",
      "15/25 [=================>............] - ETA: 0s - loss: 0.3072 - accuracy: 0.9047\n",
      "Epoch 49: saving model to model/point_history_classifier\\point_history_classifier.hdf5\n",
      "25/25 [==============================] - 0s 8ms/step - loss: 0.3083 - accuracy: 0.9011 - val_loss: 0.1452 - val_accuracy: 0.9764\n",
      "Epoch 50/1000\n",
      "16/25 [==================>...........] - ETA: 0s - loss: 0.3350 - accuracy: 0.8940\n",
      "Epoch 50: saving model to model/point_history_classifier\\point_history_classifier.hdf5\n",
      "25/25 [==============================] - 0s 8ms/step - loss: 0.3257 - accuracy: 0.8948 - val_loss: 0.1469 - val_accuracy: 0.9773\n",
      "Epoch 51/1000\n",
      "16/25 [==================>...........] - ETA: 0s - loss: 0.3073 - accuracy: 0.8955\n",
      "Epoch 51: saving model to model/point_history_classifier\\point_history_classifier.hdf5\n",
      "25/25 [==============================] - 0s 8ms/step - loss: 0.3167 - accuracy: 0.8939 - val_loss: 0.1440 - val_accuracy: 0.9811\n",
      "Epoch 52/1000\n",
      "15/25 [=================>............] - ETA: 0s - loss: 0.3275 - accuracy: 0.8906\n",
      "Epoch 52: saving model to model/point_history_classifier\\point_history_classifier.hdf5\n",
      "25/25 [==============================] - 0s 9ms/step - loss: 0.3298 - accuracy: 0.8901 - val_loss: 0.1433 - val_accuracy: 0.9802\n",
      "Epoch 53/1000\n"
     ]
    },
    {
     "name": "stdout",
     "output_type": "stream",
     "text": [
      "14/25 [===============>..............] - ETA: 0s - loss: 0.3568 - accuracy: 0.8867\n",
      "Epoch 53: saving model to model/point_history_classifier\\point_history_classifier.hdf5\n",
      "25/25 [==============================] - 0s 8ms/step - loss: 0.3497 - accuracy: 0.8872 - val_loss: 0.1451 - val_accuracy: 0.9802\n",
      "Epoch 54/1000\n",
      "12/25 [=============>................] - ETA: 0s - loss: 0.3081 - accuracy: 0.8971\n",
      "Epoch 54: saving model to model/point_history_classifier\\point_history_classifier.hdf5\n",
      "25/25 [==============================] - 0s 9ms/step - loss: 0.3115 - accuracy: 0.8948 - val_loss: 0.1420 - val_accuracy: 0.9792\n",
      "Epoch 55/1000\n",
      "14/25 [===============>..............] - ETA: 0s - loss: 0.3113 - accuracy: 0.8996\n",
      "Epoch 55: saving model to model/point_history_classifier\\point_history_classifier.hdf5\n",
      "25/25 [==============================] - 0s 8ms/step - loss: 0.3239 - accuracy: 0.8951 - val_loss: 0.1420 - val_accuracy: 0.9802\n",
      "Epoch 56/1000\n",
      "15/25 [=================>............] - ETA: 0s - loss: 0.3313 - accuracy: 0.8891\n",
      "Epoch 56: saving model to model/point_history_classifier\\point_history_classifier.hdf5\n",
      "25/25 [==============================] - 0s 8ms/step - loss: 0.3217 - accuracy: 0.8926 - val_loss: 0.1456 - val_accuracy: 0.9802\n",
      "Epoch 57/1000\n",
      "15/25 [=================>............] - ETA: 0s - loss: 0.3052 - accuracy: 0.8979\n",
      "Epoch 57: saving model to model/point_history_classifier\\point_history_classifier.hdf5\n",
      "25/25 [==============================] - 0s 8ms/step - loss: 0.3157 - accuracy: 0.8957 - val_loss: 0.1440 - val_accuracy: 0.9802\n",
      "Epoch 58/1000\n",
      "16/25 [==================>...........] - ETA: 0s - loss: 0.3031 - accuracy: 0.9028\n",
      "Epoch 58: saving model to model/point_history_classifier\\point_history_classifier.hdf5\n",
      "25/25 [==============================] - 0s 9ms/step - loss: 0.3061 - accuracy: 0.9017 - val_loss: 0.1399 - val_accuracy: 0.9802\n",
      "Epoch 59/1000\n",
      "15/25 [=================>............] - ETA: 0s - loss: 0.3286 - accuracy: 0.8865\n",
      "Epoch 59: saving model to model/point_history_classifier\\point_history_classifier.hdf5\n",
      "25/25 [==============================] - 0s 8ms/step - loss: 0.3208 - accuracy: 0.8948 - val_loss: 0.1398 - val_accuracy: 0.9821\n",
      "Epoch 60/1000\n",
      "16/25 [==================>...........] - ETA: 0s - loss: 0.3187 - accuracy: 0.8931\n",
      "Epoch 60: saving model to model/point_history_classifier\\point_history_classifier.hdf5\n",
      "25/25 [==============================] - 0s 8ms/step - loss: 0.3029 - accuracy: 0.9036 - val_loss: 0.1384 - val_accuracy: 0.9802\n",
      "Epoch 61/1000\n",
      "16/25 [==================>...........] - ETA: 0s - loss: 0.3031 - accuracy: 0.8950\n",
      "Epoch 61: saving model to model/point_history_classifier\\point_history_classifier.hdf5\n",
      "25/25 [==============================] - 0s 8ms/step - loss: 0.3182 - accuracy: 0.8907 - val_loss: 0.1383 - val_accuracy: 0.9802\n",
      "Epoch 62/1000\n",
      "15/25 [=================>............] - ETA: 0s - loss: 0.2988 - accuracy: 0.9010\n",
      "Epoch 62: saving model to model/point_history_classifier\\point_history_classifier.hdf5\n",
      "25/25 [==============================] - 0s 9ms/step - loss: 0.2927 - accuracy: 0.9039 - val_loss: 0.1373 - val_accuracy: 0.9811\n",
      "Epoch 63/1000\n",
      "25/25 [==============================] - ETA: 0s - loss: 0.2940 - accuracy: 0.9014\n",
      "Epoch 63: saving model to model/point_history_classifier\\point_history_classifier.hdf5\n",
      "25/25 [==============================] - 0s 10ms/step - loss: 0.2940 - accuracy: 0.9014 - val_loss: 0.1321 - val_accuracy: 0.9811\n",
      "Epoch 64/1000\n",
      "17/25 [===================>..........] - ETA: 0s - loss: 0.3001 - accuracy: 0.9035\n",
      "Epoch 64: saving model to model/point_history_classifier\\point_history_classifier.hdf5\n",
      "25/25 [==============================] - 0s 8ms/step - loss: 0.2909 - accuracy: 0.9096 - val_loss: 0.1330 - val_accuracy: 0.9821\n",
      "Epoch 65/1000\n",
      "16/25 [==================>...........] - ETA: 0s - loss: 0.2916 - accuracy: 0.9004\n",
      "Epoch 65: saving model to model/point_history_classifier\\point_history_classifier.hdf5\n",
      "25/25 [==============================] - 0s 8ms/step - loss: 0.2853 - accuracy: 0.9043 - val_loss: 0.1333 - val_accuracy: 0.9821\n",
      "Epoch 66/1000\n",
      "14/25 [===============>..............] - ETA: 0s - loss: 0.2941 - accuracy: 0.8996\n",
      "Epoch 66: saving model to model/point_history_classifier\\point_history_classifier.hdf5\n",
      "25/25 [==============================] - 0s 9ms/step - loss: 0.2846 - accuracy: 0.9027 - val_loss: 0.1301 - val_accuracy: 0.9821\n",
      "Epoch 67/1000\n",
      "15/25 [=================>............] - ETA: 0s - loss: 0.2770 - accuracy: 0.9047\n",
      "Epoch 67: saving model to model/point_history_classifier\\point_history_classifier.hdf5\n",
      "25/25 [==============================] - 0s 8ms/step - loss: 0.2782 - accuracy: 0.9068 - val_loss: 0.1303 - val_accuracy: 0.9802\n",
      "Epoch 68/1000\n",
      "15/25 [=================>............] - ETA: 0s - loss: 0.2747 - accuracy: 0.9135\n",
      "Epoch 68: saving model to model/point_history_classifier\\point_history_classifier.hdf5\n",
      "25/25 [==============================] - 0s 9ms/step - loss: 0.2765 - accuracy: 0.9099 - val_loss: 0.1286 - val_accuracy: 0.9821\n",
      "Epoch 69/1000\n",
      "16/25 [==================>...........] - ETA: 0s - loss: 0.2877 - accuracy: 0.9097\n",
      "Epoch 69: saving model to model/point_history_classifier\\point_history_classifier.hdf5\n",
      "25/25 [==============================] - 0s 8ms/step - loss: 0.2932 - accuracy: 0.9061 - val_loss: 0.1299 - val_accuracy: 0.9811\n",
      "Epoch 70/1000\n",
      "17/25 [===================>..........] - ETA: 0s - loss: 0.2905 - accuracy: 0.9021\n",
      "Epoch 70: saving model to model/point_history_classifier\\point_history_classifier.hdf5\n",
      "25/25 [==============================] - 0s 8ms/step - loss: 0.2862 - accuracy: 0.9027 - val_loss: 0.1295 - val_accuracy: 0.9821\n",
      "Epoch 71/1000\n",
      "15/25 [=================>............] - ETA: 0s - loss: 0.2885 - accuracy: 0.9042\n",
      "Epoch 71: saving model to model/point_history_classifier\\point_history_classifier.hdf5\n",
      "25/25 [==============================] - 0s 9ms/step - loss: 0.2843 - accuracy: 0.9046 - val_loss: 0.1277 - val_accuracy: 0.9821\n",
      "Epoch 72/1000\n",
      "25/25 [==============================] - ETA: 0s - loss: 0.2770 - accuracy: 0.9121\n",
      "Epoch 72: saving model to model/point_history_classifier\\point_history_classifier.hdf5\n",
      "25/25 [==============================] - 0s 10ms/step - loss: 0.2770 - accuracy: 0.9121 - val_loss: 0.1271 - val_accuracy: 0.9821\n",
      "Epoch 73/1000\n",
      "13/25 [==============>...............] - ETA: 0s - loss: 0.3081 - accuracy: 0.8972\n",
      "Epoch 73: saving model to model/point_history_classifier\\point_history_classifier.hdf5\n",
      "25/25 [==============================] - 0s 9ms/step - loss: 0.2969 - accuracy: 0.9020 - val_loss: 0.1276 - val_accuracy: 0.9821\n",
      "Epoch 74/1000\n",
      "13/25 [==============>...............] - ETA: 0s - loss: 0.2835 - accuracy: 0.9050\n",
      "Epoch 74: saving model to model/point_history_classifier\\point_history_classifier.hdf5\n",
      "25/25 [==============================] - 0s 9ms/step - loss: 0.2849 - accuracy: 0.9017 - val_loss: 0.1277 - val_accuracy: 0.9821\n",
      "Epoch 75/1000\n",
      "14/25 [===============>..............] - ETA: 0s - loss: 0.2839 - accuracy: 0.8951\n",
      "Epoch 75: saving model to model/point_history_classifier\\point_history_classifier.hdf5\n",
      "25/25 [==============================] - 0s 10ms/step - loss: 0.2833 - accuracy: 0.8995 - val_loss: 0.1270 - val_accuracy: 0.9821\n",
      "Epoch 76/1000\n",
      "24/25 [===========================>..] - ETA: 0s - loss: 0.2957 - accuracy: 0.9014\n",
      "Epoch 76: saving model to model/point_history_classifier\\point_history_classifier.hdf5\n",
      "25/25 [==============================] - 0s 10ms/step - loss: 0.2948 - accuracy: 0.9017 - val_loss: 0.1277 - val_accuracy: 0.9821\n",
      "Epoch 77/1000\n",
      "14/25 [===============>..............] - ETA: 0s - loss: 0.2772 - accuracy: 0.9196\n",
      "Epoch 77: saving model to model/point_history_classifier\\point_history_classifier.hdf5\n",
      "25/25 [==============================] - 0s 9ms/step - loss: 0.2693 - accuracy: 0.9175 - val_loss: 0.1253 - val_accuracy: 0.9821\n",
      "Epoch 78/1000\n",
      "12/25 [=============>................] - ETA: 0s - loss: 0.2656 - accuracy: 0.9167\n",
      "Epoch 78: saving model to model/point_history_classifier\\point_history_classifier.hdf5\n",
      "25/25 [==============================] - 0s 10ms/step - loss: 0.2684 - accuracy: 0.9115 - val_loss: 0.1242 - val_accuracy: 0.9821\n",
      "Epoch 79/1000\n"
     ]
    },
    {
     "name": "stdout",
     "output_type": "stream",
     "text": [
      "13/25 [==============>...............] - ETA: 0s - loss: 0.2734 - accuracy: 0.9038\n",
      "Epoch 79: saving model to model/point_history_classifier\\point_history_classifier.hdf5\n",
      "25/25 [==============================] - 0s 9ms/step - loss: 0.2758 - accuracy: 0.9087 - val_loss: 0.1248 - val_accuracy: 0.9821\n",
      "Epoch 80/1000\n",
      "24/25 [===========================>..] - ETA: 0s - loss: 0.2718 - accuracy: 0.9124\n",
      "Epoch 80: saving model to model/point_history_classifier\\point_history_classifier.hdf5\n",
      "25/25 [==============================] - 0s 11ms/step - loss: 0.2757 - accuracy: 0.9115 - val_loss: 0.1256 - val_accuracy: 0.9811\n",
      "Epoch 81/1000\n",
      "16/25 [==================>...........] - ETA: 0s - loss: 0.2684 - accuracy: 0.9175\n",
      "Epoch 81: saving model to model/point_history_classifier\\point_history_classifier.hdf5\n",
      "25/25 [==============================] - 0s 8ms/step - loss: 0.2756 - accuracy: 0.9109 - val_loss: 0.1210 - val_accuracy: 0.9802\n",
      "Epoch 82/1000\n",
      "15/25 [=================>............] - ETA: 0s - loss: 0.2856 - accuracy: 0.9021\n",
      "Epoch 82: saving model to model/point_history_classifier\\point_history_classifier.hdf5\n",
      "25/25 [==============================] - 0s 8ms/step - loss: 0.2885 - accuracy: 0.9043 - val_loss: 0.1242 - val_accuracy: 0.9802\n",
      "Epoch 83/1000\n",
      "15/25 [=================>............] - ETA: 0s - loss: 0.2671 - accuracy: 0.9146\n",
      "Epoch 83: saving model to model/point_history_classifier\\point_history_classifier.hdf5\n",
      "25/25 [==============================] - 0s 8ms/step - loss: 0.2681 - accuracy: 0.9090 - val_loss: 0.1238 - val_accuracy: 0.9821\n",
      "Epoch 84/1000\n",
      "17/25 [===================>..........] - ETA: 0s - loss: 0.2564 - accuracy: 0.9168\n",
      "Epoch 84: saving model to model/point_history_classifier\\point_history_classifier.hdf5\n",
      "25/25 [==============================] - 0s 8ms/step - loss: 0.2698 - accuracy: 0.9102 - val_loss: 0.1231 - val_accuracy: 0.9821\n",
      "Epoch 85/1000\n",
      "14/25 [===============>..............] - ETA: 0s - loss: 0.2660 - accuracy: 0.9157\n",
      "Epoch 85: saving model to model/point_history_classifier\\point_history_classifier.hdf5\n",
      "25/25 [==============================] - 0s 8ms/step - loss: 0.2770 - accuracy: 0.9146 - val_loss: 0.1223 - val_accuracy: 0.9802\n",
      "Epoch 86/1000\n",
      "25/25 [==============================] - ETA: 0s - loss: 0.2667 - accuracy: 0.9090\n",
      "Epoch 86: saving model to model/point_history_classifier\\point_history_classifier.hdf5\n",
      "25/25 [==============================] - 0s 10ms/step - loss: 0.2667 - accuracy: 0.9090 - val_loss: 0.1220 - val_accuracy: 0.9811\n",
      "Epoch 87/1000\n",
      "23/25 [==========================>...] - ETA: 0s - loss: 0.2772 - accuracy: 0.9107\n",
      "Epoch 87: saving model to model/point_history_classifier\\point_history_classifier.hdf5\n",
      "25/25 [==============================] - 0s 11ms/step - loss: 0.2745 - accuracy: 0.9115 - val_loss: 0.1227 - val_accuracy: 0.9811\n",
      "Epoch 88/1000\n",
      "22/25 [=========================>....] - ETA: 0s - loss: 0.2744 - accuracy: 0.9045\n",
      "Epoch 88: saving model to model/point_history_classifier\\point_history_classifier.hdf5\n",
      "25/25 [==============================] - 0s 11ms/step - loss: 0.2728 - accuracy: 0.9052 - val_loss: 0.1223 - val_accuracy: 0.9802\n",
      "Epoch 89/1000\n",
      "21/25 [========================>.....] - ETA: 0s - loss: 0.2676 - accuracy: 0.9144\n",
      "Epoch 89: saving model to model/point_history_classifier\\point_history_classifier.hdf5\n",
      "25/25 [==============================] - 0s 11ms/step - loss: 0.2758 - accuracy: 0.9099 - val_loss: 0.1218 - val_accuracy: 0.9802\n",
      "Epoch 90/1000\n",
      "16/25 [==================>...........] - ETA: 0s - loss: 0.2646 - accuracy: 0.9111\n",
      "Epoch 90: saving model to model/point_history_classifier\\point_history_classifier.hdf5\n",
      "25/25 [==============================] - 0s 8ms/step - loss: 0.2846 - accuracy: 0.9065 - val_loss: 0.1224 - val_accuracy: 0.9802\n",
      "Epoch 91/1000\n",
      "17/25 [===================>..........] - ETA: 0s - loss: 0.2562 - accuracy: 0.9187\n",
      "Epoch 91: saving model to model/point_history_classifier\\point_history_classifier.hdf5\n",
      "25/25 [==============================] - 0s 7ms/step - loss: 0.2532 - accuracy: 0.9150 - val_loss: 0.1208 - val_accuracy: 0.9802\n",
      "Epoch 92/1000\n",
      "17/25 [===================>..........] - ETA: 0s - loss: 0.2807 - accuracy: 0.9072\n",
      "Epoch 92: saving model to model/point_history_classifier\\point_history_classifier.hdf5\n",
      "25/25 [==============================] - 0s 8ms/step - loss: 0.2751 - accuracy: 0.9083 - val_loss: 0.1201 - val_accuracy: 0.9802\n",
      "Epoch 93/1000\n",
      "25/25 [==============================] - ETA: 0s - loss: 0.2615 - accuracy: 0.9162\n",
      "Epoch 93: saving model to model/point_history_classifier\\point_history_classifier.hdf5\n",
      "25/25 [==============================] - 0s 10ms/step - loss: 0.2615 - accuracy: 0.9162 - val_loss: 0.1207 - val_accuracy: 0.9802\n",
      "Epoch 94/1000\n",
      "17/25 [===================>..........] - ETA: 0s - loss: 0.2502 - accuracy: 0.9145\n",
      "Epoch 94: saving model to model/point_history_classifier\\point_history_classifier.hdf5\n",
      "25/25 [==============================] - 0s 8ms/step - loss: 0.2561 - accuracy: 0.9099 - val_loss: 0.1195 - val_accuracy: 0.9811\n",
      "Epoch 95/1000\n",
      "15/25 [=================>............] - ETA: 0s - loss: 0.2567 - accuracy: 0.9141\n",
      "Epoch 95: saving model to model/point_history_classifier\\point_history_classifier.hdf5\n",
      "25/25 [==============================] - 0s 8ms/step - loss: 0.2592 - accuracy: 0.9140 - val_loss: 0.1215 - val_accuracy: 0.9811\n",
      "Epoch 96/1000\n",
      "16/25 [==================>...........] - ETA: 0s - loss: 0.2521 - accuracy: 0.9180\n",
      "Epoch 96: saving model to model/point_history_classifier\\point_history_classifier.hdf5\n",
      "25/25 [==============================] - 0s 8ms/step - loss: 0.2544 - accuracy: 0.9153 - val_loss: 0.1192 - val_accuracy: 0.9802\n",
      "Epoch 97/1000\n",
      "15/25 [=================>............] - ETA: 0s - loss: 0.2550 - accuracy: 0.9125\n",
      "Epoch 97: saving model to model/point_history_classifier\\point_history_classifier.hdf5\n",
      "25/25 [==============================] - 0s 8ms/step - loss: 0.2459 - accuracy: 0.9159 - val_loss: 0.1176 - val_accuracy: 0.9802\n",
      "Epoch 98/1000\n",
      "23/25 [==========================>...] - ETA: 0s - loss: 0.2602 - accuracy: 0.9110\n",
      "Epoch 98: saving model to model/point_history_classifier\\point_history_classifier.hdf5\n",
      "25/25 [==============================] - 0s 10ms/step - loss: 0.2614 - accuracy: 0.9106 - val_loss: 0.1192 - val_accuracy: 0.9811\n",
      "Epoch 99/1000\n",
      "13/25 [==============>...............] - ETA: 0s - loss: 0.2445 - accuracy: 0.9165\n",
      "Epoch 99: saving model to model/point_history_classifier\\point_history_classifier.hdf5\n",
      "25/25 [==============================] - 0s 10ms/step - loss: 0.2427 - accuracy: 0.9213 - val_loss: 0.1179 - val_accuracy: 0.9811\n",
      "Epoch 100/1000\n",
      "18/25 [====================>.........] - ETA: 0s - loss: 0.2456 - accuracy: 0.9154\n",
      "Epoch 100: saving model to model/point_history_classifier\\point_history_classifier.hdf5\n",
      "25/25 [==============================] - 0s 10ms/step - loss: 0.2578 - accuracy: 0.9115 - val_loss: 0.1161 - val_accuracy: 0.9821\n",
      "Epoch 101/1000\n",
      "14/25 [===============>..............] - ETA: 0s - loss: 0.2820 - accuracy: 0.9068\n",
      "Epoch 101: saving model to model/point_history_classifier\\point_history_classifier.hdf5\n",
      "25/25 [==============================] - 0s 9ms/step - loss: 0.2826 - accuracy: 0.9052 - val_loss: 0.1183 - val_accuracy: 0.9821\n",
      "Epoch 102/1000\n",
      "14/25 [===============>..............] - ETA: 0s - loss: 0.2303 - accuracy: 0.9235\n",
      "Epoch 102: saving model to model/point_history_classifier\\point_history_classifier.hdf5\n",
      "25/25 [==============================] - 0s 8ms/step - loss: 0.2368 - accuracy: 0.9200 - val_loss: 0.1165 - val_accuracy: 0.9802\n",
      "Epoch 103/1000\n",
      "14/25 [===============>..............] - ETA: 0s - loss: 0.2662 - accuracy: 0.9085\n",
      "Epoch 103: saving model to model/point_history_classifier\\point_history_classifier.hdf5\n",
      "25/25 [==============================] - 0s 8ms/step - loss: 0.2571 - accuracy: 0.9181 - val_loss: 0.1162 - val_accuracy: 0.9811\n",
      "Epoch 104/1000\n",
      "14/25 [===============>..............] - ETA: 0s - loss: 0.2676 - accuracy: 0.9129\n",
      "Epoch 104: saving model to model/point_history_classifier\\point_history_classifier.hdf5\n",
      "25/25 [==============================] - 0s 8ms/step - loss: 0.2496 - accuracy: 0.9197 - val_loss: 0.1149 - val_accuracy: 0.9821\n",
      "Epoch 105/1000\n"
     ]
    },
    {
     "name": "stdout",
     "output_type": "stream",
     "text": [
      "14/25 [===============>..............] - ETA: 0s - loss: 0.2527 - accuracy: 0.9180\n",
      "Epoch 105: saving model to model/point_history_classifier\\point_history_classifier.hdf5\n",
      "25/25 [==============================] - 0s 10ms/step - loss: 0.2636 - accuracy: 0.9140 - val_loss: 0.1160 - val_accuracy: 0.9821\n",
      "Epoch 106/1000\n",
      "25/25 [==============================] - ETA: 0s - loss: 0.2531 - accuracy: 0.9169\n",
      "Epoch 106: saving model to model/point_history_classifier\\point_history_classifier.hdf5\n",
      "25/25 [==============================] - 0s 10ms/step - loss: 0.2531 - accuracy: 0.9169 - val_loss: 0.1184 - val_accuracy: 0.9802\n",
      "Epoch 107/1000\n",
      "12/25 [=============>................] - ETA: 0s - loss: 0.2698 - accuracy: 0.9134\n",
      "Epoch 107: saving model to model/point_history_classifier\\point_history_classifier.hdf5\n",
      "25/25 [==============================] - 0s 8ms/step - loss: 0.2601 - accuracy: 0.9191 - val_loss: 0.1185 - val_accuracy: 0.9811\n",
      "Epoch 108/1000\n",
      "15/25 [=================>............] - ETA: 0s - loss: 0.2412 - accuracy: 0.9245\n",
      "Epoch 108: saving model to model/point_history_classifier\\point_history_classifier.hdf5\n",
      "25/25 [==============================] - 0s 8ms/step - loss: 0.2422 - accuracy: 0.9200 - val_loss: 0.1151 - val_accuracy: 0.9830\n",
      "Epoch 109/1000\n",
      "17/25 [===================>..........] - ETA: 0s - loss: 0.2497 - accuracy: 0.9182\n",
      "Epoch 109: saving model to model/point_history_classifier\\point_history_classifier.hdf5\n",
      "25/25 [==============================] - 0s 8ms/step - loss: 0.2414 - accuracy: 0.9206 - val_loss: 0.1140 - val_accuracy: 0.9830\n",
      "Epoch 110/1000\n",
      "16/25 [==================>...........] - ETA: 0s - loss: 0.2355 - accuracy: 0.9253\n",
      "Epoch 110: saving model to model/point_history_classifier\\point_history_classifier.hdf5\n",
      "25/25 [==============================] - 0s 9ms/step - loss: 0.2337 - accuracy: 0.9231 - val_loss: 0.1111 - val_accuracy: 0.9821\n",
      "Epoch 111/1000\n",
      "14/25 [===============>..............] - ETA: 0s - loss: 0.2565 - accuracy: 0.9180\n",
      "Epoch 111: saving model to model/point_history_classifier\\point_history_classifier.hdf5\n",
      "25/25 [==============================] - 0s 9ms/step - loss: 0.2533 - accuracy: 0.9175 - val_loss: 0.1108 - val_accuracy: 0.9821\n",
      "Epoch 112/1000\n",
      "25/25 [==============================] - ETA: 0s - loss: 0.2583 - accuracy: 0.9181\n",
      "Epoch 112: saving model to model/point_history_classifier\\point_history_classifier.hdf5\n",
      "25/25 [==============================] - 0s 10ms/step - loss: 0.2583 - accuracy: 0.9181 - val_loss: 0.1134 - val_accuracy: 0.9802\n",
      "Epoch 113/1000\n",
      "17/25 [===================>..........] - ETA: 0s - loss: 0.2558 - accuracy: 0.9127\n",
      "Epoch 113: saving model to model/point_history_classifier\\point_history_classifier.hdf5\n",
      "25/25 [==============================] - 0s 8ms/step - loss: 0.2538 - accuracy: 0.9150 - val_loss: 0.1149 - val_accuracy: 0.9802\n",
      "Epoch 114/1000\n",
      "16/25 [==================>...........] - ETA: 0s - loss: 0.2417 - accuracy: 0.9194\n",
      "Epoch 114: saving model to model/point_history_classifier\\point_history_classifier.hdf5\n",
      "25/25 [==============================] - 0s 8ms/step - loss: 0.2523 - accuracy: 0.9134 - val_loss: 0.1117 - val_accuracy: 0.9821\n",
      "Epoch 115/1000\n",
      "16/25 [==================>...........] - ETA: 0s - loss: 0.2437 - accuracy: 0.9194\n",
      "Epoch 115: saving model to model/point_history_classifier\\point_history_classifier.hdf5\n",
      "25/25 [==============================] - 0s 9ms/step - loss: 0.2425 - accuracy: 0.9194 - val_loss: 0.1132 - val_accuracy: 0.9811\n",
      "Epoch 116/1000\n",
      "15/25 [=================>............] - ETA: 0s - loss: 0.2528 - accuracy: 0.9120\n",
      "Epoch 116: saving model to model/point_history_classifier\\point_history_classifier.hdf5\n",
      "25/25 [==============================] - 0s 8ms/step - loss: 0.2416 - accuracy: 0.9175 - val_loss: 0.1124 - val_accuracy: 0.9821\n",
      "Epoch 117/1000\n",
      "17/25 [===================>..........] - ETA: 0s - loss: 0.2390 - accuracy: 0.9265\n",
      "Epoch 117: saving model to model/point_history_classifier\\point_history_classifier.hdf5\n",
      "25/25 [==============================] - 0s 8ms/step - loss: 0.2375 - accuracy: 0.9244 - val_loss: 0.1106 - val_accuracy: 0.9811\n",
      "Epoch 118/1000\n",
      "18/25 [====================>.........] - ETA: 0s - loss: 0.2417 - accuracy: 0.9188\n",
      "Epoch 118: saving model to model/point_history_classifier\\point_history_classifier.hdf5\n",
      "25/25 [==============================] - 0s 8ms/step - loss: 0.2348 - accuracy: 0.9247 - val_loss: 0.1087 - val_accuracy: 0.9821\n",
      "Epoch 119/1000\n",
      "24/25 [===========================>..] - ETA: 0s - loss: 0.2364 - accuracy: 0.9235\n",
      "Epoch 119: saving model to model/point_history_classifier\\point_history_classifier.hdf5\n",
      "25/25 [==============================] - 0s 11ms/step - loss: 0.2348 - accuracy: 0.9231 - val_loss: 0.1078 - val_accuracy: 0.9821\n",
      "Epoch 120/1000\n",
      "25/25 [==============================] - ETA: 0s - loss: 0.2434 - accuracy: 0.9197\n",
      "Epoch 120: saving model to model/point_history_classifier\\point_history_classifier.hdf5\n",
      "25/25 [==============================] - 0s 11ms/step - loss: 0.2434 - accuracy: 0.9197 - val_loss: 0.1074 - val_accuracy: 0.9821\n",
      "Epoch 121/1000\n",
      "16/25 [==================>...........] - ETA: 0s - loss: 0.2145 - accuracy: 0.9326\n",
      "Epoch 121: saving model to model/point_history_classifier\\point_history_classifier.hdf5\n",
      "25/25 [==============================] - 0s 8ms/step - loss: 0.2266 - accuracy: 0.9285 - val_loss: 0.1086 - val_accuracy: 0.9821\n",
      "Epoch 122/1000\n",
      "25/25 [==============================] - ETA: 0s - loss: 0.2408 - accuracy: 0.9146\n",
      "Epoch 122: saving model to model/point_history_classifier\\point_history_classifier.hdf5\n",
      "25/25 [==============================] - 0s 9ms/step - loss: 0.2408 - accuracy: 0.9146 - val_loss: 0.1084 - val_accuracy: 0.9821\n",
      "Epoch 123/1000\n",
      "16/25 [==================>...........] - ETA: 0s - loss: 0.2574 - accuracy: 0.9072\n",
      "Epoch 123: saving model to model/point_history_classifier\\point_history_classifier.hdf5\n",
      "25/25 [==============================] - 0s 9ms/step - loss: 0.2543 - accuracy: 0.9099 - val_loss: 0.1115 - val_accuracy: 0.9821\n",
      "Epoch 124/1000\n",
      "13/25 [==============>...............] - ETA: 0s - loss: 0.2288 - accuracy: 0.9249\n",
      "Epoch 124: saving model to model/point_history_classifier\\point_history_classifier.hdf5\n",
      "25/25 [==============================] - 0s 10ms/step - loss: 0.2337 - accuracy: 0.9225 - val_loss: 0.1115 - val_accuracy: 0.9830\n",
      "Epoch 125/1000\n",
      "15/25 [=================>............] - ETA: 0s - loss: 0.2524 - accuracy: 0.9172\n",
      "Epoch 125: saving model to model/point_history_classifier\\point_history_classifier.hdf5\n",
      "25/25 [==============================] - 0s 8ms/step - loss: 0.2443 - accuracy: 0.9194 - val_loss: 0.1122 - val_accuracy: 0.9830\n",
      "Epoch 126/1000\n",
      "16/25 [==================>...........] - ETA: 0s - loss: 0.2549 - accuracy: 0.9170\n",
      "Epoch 126: saving model to model/point_history_classifier\\point_history_classifier.hdf5\n",
      "25/25 [==============================] - 0s 9ms/step - loss: 0.2453 - accuracy: 0.9200 - val_loss: 0.1134 - val_accuracy: 0.9830\n",
      "Epoch 127/1000\n",
      "25/25 [==============================] - ETA: 0s - loss: 0.2248 - accuracy: 0.9222\n",
      "Epoch 127: saving model to model/point_history_classifier\\point_history_classifier.hdf5\n",
      "25/25 [==============================] - 0s 11ms/step - loss: 0.2248 - accuracy: 0.9222 - val_loss: 0.1127 - val_accuracy: 0.9830\n",
      "Epoch 128/1000\n",
      "23/25 [==========================>...] - ETA: 0s - loss: 0.2533 - accuracy: 0.9202\n",
      "Epoch 128: saving model to model/point_history_classifier\\point_history_classifier.hdf5\n",
      "25/25 [==============================] - 0s 10ms/step - loss: 0.2560 - accuracy: 0.9184 - val_loss: 0.1112 - val_accuracy: 0.9830\n",
      "Epoch 129/1000\n",
      "16/25 [==================>...........] - ETA: 0s - loss: 0.2310 - accuracy: 0.9233\n",
      "Epoch 129: saving model to model/point_history_classifier\\point_history_classifier.hdf5\n",
      "25/25 [==============================] - 0s 8ms/step - loss: 0.2347 - accuracy: 0.9213 - val_loss: 0.1110 - val_accuracy: 0.9830\n",
      "Epoch 130/1000\n",
      "13/25 [==============>...............] - ETA: 0s - loss: 0.2216 - accuracy: 0.9255\n",
      "Epoch 130: saving model to model/point_history_classifier\\point_history_classifier.hdf5\n",
      "25/25 [==============================] - 0s 8ms/step - loss: 0.2354 - accuracy: 0.9219 - val_loss: 0.1115 - val_accuracy: 0.9830\n",
      "Epoch 131/1000\n"
     ]
    },
    {
     "name": "stdout",
     "output_type": "stream",
     "text": [
      "15/25 [=================>............] - ETA: 0s - loss: 0.2445 - accuracy: 0.9198\n",
      "Epoch 131: saving model to model/point_history_classifier\\point_history_classifier.hdf5\n",
      "25/25 [==============================] - 0s 8ms/step - loss: 0.2396 - accuracy: 0.9235 - val_loss: 0.1114 - val_accuracy: 0.9830\n",
      "Epoch 132/1000\n",
      "17/25 [===================>..........] - ETA: 0s - loss: 0.2352 - accuracy: 0.9164\n",
      "Epoch 132: saving model to model/point_history_classifier\\point_history_classifier.hdf5\n",
      "25/25 [==============================] - 0s 8ms/step - loss: 0.2269 - accuracy: 0.9222 - val_loss: 0.1117 - val_accuracy: 0.9830\n",
      "Epoch 133/1000\n",
      "16/25 [==================>...........] - ETA: 0s - loss: 0.2557 - accuracy: 0.9126\n",
      "Epoch 133: saving model to model/point_history_classifier\\point_history_classifier.hdf5\n",
      "25/25 [==============================] - 0s 8ms/step - loss: 0.2387 - accuracy: 0.9203 - val_loss: 0.1111 - val_accuracy: 0.9830\n",
      "Epoch 134/1000\n",
      "16/25 [==================>...........] - ETA: 0s - loss: 0.2398 - accuracy: 0.9141\n",
      "Epoch 134: saving model to model/point_history_classifier\\point_history_classifier.hdf5\n",
      "25/25 [==============================] - 0s 8ms/step - loss: 0.2349 - accuracy: 0.9153 - val_loss: 0.1100 - val_accuracy: 0.9830\n",
      "Epoch 135/1000\n",
      "17/25 [===================>..........] - ETA: 0s - loss: 0.2398 - accuracy: 0.9274\n",
      "Epoch 135: saving model to model/point_history_classifier\\point_history_classifier.hdf5\n",
      "25/25 [==============================] - 0s 9ms/step - loss: 0.2462 - accuracy: 0.9216 - val_loss: 0.1114 - val_accuracy: 0.9839\n",
      "Epoch 136/1000\n",
      "13/25 [==============>...............] - ETA: 0s - loss: 0.2281 - accuracy: 0.9285\n",
      "Epoch 136: saving model to model/point_history_classifier\\point_history_classifier.hdf5\n",
      "25/25 [==============================] - 0s 9ms/step - loss: 0.2473 - accuracy: 0.9159 - val_loss: 0.1085 - val_accuracy: 0.9830\n",
      "Epoch 137/1000\n",
      "17/25 [===================>..........] - ETA: 0s - loss: 0.2399 - accuracy: 0.9210\n",
      "Epoch 137: saving model to model/point_history_classifier\\point_history_classifier.hdf5\n",
      "25/25 [==============================] - 0s 8ms/step - loss: 0.2378 - accuracy: 0.9209 - val_loss: 0.1101 - val_accuracy: 0.9830\n",
      "Epoch 138/1000\n",
      "17/25 [===================>..........] - ETA: 0s - loss: 0.2314 - accuracy: 0.9228\n",
      "Epoch 138: saving model to model/point_history_classifier\\point_history_classifier.hdf5\n",
      "25/25 [==============================] - 0s 8ms/step - loss: 0.2425 - accuracy: 0.9194 - val_loss: 0.1135 - val_accuracy: 0.9830\n",
      "Epoch 139/1000\n",
      "16/25 [==================>...........] - ETA: 0s - loss: 0.2340 - accuracy: 0.9199\n",
      "Epoch 139: saving model to model/point_history_classifier\\point_history_classifier.hdf5\n",
      "25/25 [==============================] - 0s 8ms/step - loss: 0.2310 - accuracy: 0.9194 - val_loss: 0.1111 - val_accuracy: 0.9849\n",
      "Epoch 140/1000\n",
      "15/25 [=================>............] - ETA: 0s - loss: 0.2381 - accuracy: 0.9266\n",
      "Epoch 140: saving model to model/point_history_classifier\\point_history_classifier.hdf5\n",
      "25/25 [==============================] - 0s 8ms/step - loss: 0.2419 - accuracy: 0.9222 - val_loss: 0.1100 - val_accuracy: 0.9839\n",
      "Epoch 140: early stopping\n"
     ]
    },
    {
     "data": {
      "text/plain": [
       "<keras.callbacks.History at 0x13c07fa64c0>"
      ]
     },
     "execution_count": 12,
     "metadata": {},
     "output_type": "execute_result"
    }
   ],
   "source": [
    "model.fit(\n",
    "    X_train,\n",
    "    y_train,\n",
    "    epochs=1000,\n",
    "    batch_size=128,\n",
    "    validation_data=(X_test, y_test),\n",
    "    callbacks=[cp_callback, es_callback]\n",
    ")"
   ]
  },
  {
   "cell_type": "code",
   "execution_count": 13,
   "metadata": {},
   "outputs": [],
   "source": [
    "# 保存したモデルのロード\n",
    "model = tf.keras.models.load_model(model_save_path)"
   ]
  },
  {
   "cell_type": "code",
   "execution_count": 14,
   "metadata": {},
   "outputs": [
    {
     "name": "stdout",
     "output_type": "stream",
     "text": [
      "1/1 [==============================] - 0s 197ms/step\n",
      "[9.5839322e-01 2.0618699e-02 2.0585101e-02 4.0298633e-04]\n",
      "0\n"
     ]
    }
   ],
   "source": [
    "# 推論テスト\n",
    "predict_result = model.predict(np.array([X_test[0]]))\n",
    "print(np.squeeze(predict_result))\n",
    "print(np.argmax(np.squeeze(predict_result)))"
   ]
  },
  {
   "cell_type": "markdown",
   "metadata": {},
   "source": [
    "# 混同行列"
   ]
  },
  {
   "cell_type": "code",
   "execution_count": 15,
   "metadata": {},
   "outputs": [
    {
     "name": "stdout",
     "output_type": "stream",
     "text": [
      "34/34 [==============================] - 0s 4ms/step\n"
     ]
    },
    {
     "data": {
      "image/png": "[encoded data removed]",
      "text/plain": [
       "<Figure size 504x432 with 2 Axes>"
      ]
     },
     "metadata": {
      "needs_background": "light"
     },
     "output_type": "display_data"
    },
    {
     "name": "stdout",
     "output_type": "stream",
     "text": [
      "Classification Report\n",
      "              precision    recall  f1-score   support\n",
      "\n",
      "           0       0.99      1.00      1.00       388\n",
      "           1       0.99      0.99      0.99       298\n",
      "           2       0.97      0.98      0.98       301\n",
      "           3       0.94      0.86      0.90        72\n",
      "\n",
      "    accuracy                           0.98      1059\n",
      "   macro avg       0.97      0.96      0.97      1059\n",
      "weighted avg       0.98      0.98      0.98      1059\n",
      "\n"
     ]
    }
   ],
   "source": [
    "import pandas as pd\n",
    "import seaborn as sns\n",
    "import matplotlib.pyplot as plt\n",
    "from sklearn.metrics import confusion_matrix, classification_report\n",
    "\n",
    "def print_confusion_matrix(y_true, y_pred, report=True):\n",
    "    labels = sorted(list(set(y_true)))\n",
    "    cmx_data = confusion_matrix(y_true, y_pred, labels=labels)\n",
    "    \n",
    "    df_cmx = pd.DataFrame(cmx_data, index=labels, columns=labels)\n",
    " \n",
    "    fig, ax = plt.subplots(figsize=(7, 6))\n",
    "    sns.heatmap(df_cmx, annot=True, fmt='g' ,square=False)\n",
    "    ax.set_ylim(len(set(y_true)), 0)\n",
    "    plt.show()\n",
    "    \n",
    "    if report:\n",
    "        print('Classification Report')\n",
    "        print(classification_report(y_test, y_pred))\n",
    "\n",
    "Y_pred = model.predict(X_test)\n",
    "y_pred = np.argmax(Y_pred, axis=1)\n",
    "\n",
    "print_confusion_matrix(y_test, y_pred)"
   ]
  },
  {
   "cell_type": "markdown",
   "metadata": {},
   "source": [
    "# Tensorflow-Lite用のモデルへ変換"
   ]
  },
  {
   "cell_type": "code",
   "execution_count": 16,
   "metadata": {},
   "outputs": [
    {
     "name": "stdout",
     "output_type": "stream",
     "text": [
      "WARNING:tensorflow:No training configuration found in the save file, so the model was *not* compiled. Compile it manually.\n"
     ]
    }
   ],
   "source": [
    "# 推論専用のモデルとして保存\n",
    "model.save(model_save_path, include_optimizer=False)\n",
    "model = tf.keras.models.load_model(model_save_path)"
   ]
  },
  {
   "cell_type": "code",
   "execution_count": 17,
   "metadata": {},
   "outputs": [],
   "source": [
    "tflite_save_path = 'model/point_history_classifier/point_history_classifier.tflite'"
   ]
  },
  {
   "cell_type": "code",
   "execution_count": 18,
   "metadata": {},
   "outputs": [
    {
     "name": "stdout",
     "output_type": "stream",
     "text": [
      "INFO:tensorflow:Assets written to: C:\\Users\\HP\\AppData\\Local\\Temp\\tmpjbzlcs2a\\assets\n"
     ]
    },
    {
     "data": {
      "text/plain": [
       "6376"
      ]
     },
     "execution_count": 18,
     "metadata": {},
     "output_type": "execute_result"
    }
   ],
   "source": [
    "# モデルを変換(量子化\n",
    "converter = tf.lite.TFLiteConverter.from_keras_model(model)  # converter = tf.lite.TFLiteConverter.from_saved_model(saved_model_path)\n",
    "converter.optimizations = [tf.lite.Optimize.DEFAULT]\n",
    "tflite_quantized_model = converter.convert()\n",
    "\n",
    "open(tflite_save_path, 'wb').write(tflite_quantized_model)"
   ]
  },
  {
   "cell_type": "markdown",
   "metadata": {},
   "source": [
    "# 推論テスト"
   ]
  },
  {
   "cell_type": "code",
   "execution_count": 19,
   "metadata": {},
   "outputs": [],
   "source": [
    "interpreter = tf.lite.Interpreter(model_path=tflite_save_path)\n",
    "interpreter.allocate_tensors()"
   ]
  },
  {
   "cell_type": "code",
   "execution_count": 20,
   "metadata": {},
   "outputs": [
    {
     "name": "stdout",
     "output_type": "stream",
     "text": [
      "[{'name': 'serving_default_input_1:0', 'index': 0, 'shape': array([ 1, 32]), 'shape_signature': array([-1, 32]), 'dtype': <class 'numpy.float32'>, 'quantization': (0.0, 0), 'quantization_parameters': {'scales': array([], dtype=float32), 'zero_points': array([], dtype=int32), 'quantized_dimension': 0}, 'sparsity_parameters': {}}]\n"
     ]
    }
   ],
   "source": [
    "# 入出力テンソルを取得\n",
    "input_details = interpreter.get_input_details()\n",
    "output_details = interpreter.get_output_details()\n",
    "print(input_details)"
   ]
  },
  {
   "cell_type": "code",
   "execution_count": 21,
   "metadata": {},
   "outputs": [],
   "source": [
    "interpreter.set_tensor(input_details[0]['index'], np.array([X_test[0]]))"
   ]
  },
  {
   "cell_type": "code",
   "execution_count": 22,
   "metadata": {},
   "outputs": [
    {
     "name": "stdout",
     "output_type": "stream",
     "text": [
      "CPU times: total: 0 ns\n",
      "Wall time: 7.99 ms\n"
     ]
    }
   ],
   "source": [
    "%%time\n",
    "# 推論実施\n",
    "interpreter.invoke()\n",
    "tflite_results = interpreter.get_tensor(output_details[0]['index'])"
   ]
  },
  {
   "cell_type": "code",
   "execution_count": 23,
   "metadata": {},
   "outputs": [
    {
     "name": "stdout",
     "output_type": "stream",
     "text": [
      "[9.5839322e-01 2.0618705e-02 2.0585103e-02 4.0298630e-04]\n",
      "0\n"
     ]
    }
   ],
   "source": [
    "print(np.squeeze(tflite_results))\n",
    "print(np.argmax(np.squeeze(tflite_results)))"
   ]
  }
 ],
 "metadata": {
  "kernelspec": {
   "display_name": "Python (myenv)",
   "language": "python",
   "name": "myenv"
  },
  "language_info": {
   "codemirror_mode": {
    "name": "ipython",
    "version": 3
   },
   "file_extension": ".py",
   "mimetype": "text/x-python",
   "name": "python",
   "nbconvert_exporter": "python",
   "pygments_lexer": "ipython3",
   "version": "3.8.13"
  }
 },
 "nbformat": 4,
 "nbformat_minor": 4
}
