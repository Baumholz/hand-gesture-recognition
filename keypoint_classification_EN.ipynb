{
 "cells": [
  {
   "cell_type": "code",
   "execution_count": 1,
   "metadata": {
    "id": "igMyGnjE9hEp"
   },
   "outputs": [],
   "source": [
    "import csv\n",
    "\n",
    "import numpy as np\n",
    "import tensorflow as tf\n",
    "from sklearn.model_selection import train_test_split\n",
    "\n",
    "RANDOM_SEED = 42"
   ]
  },
  {
   "cell_type": "markdown",
   "metadata": {
    "id": "t2HDvhIu9hEr"
   },
   "source": [
    "# Specify each path"
   ]
  },
  {
   "cell_type": "code",
   "execution_count": 2,
   "metadata": {
    "id": "9NvZP2Zn9hEy"
   },
   "outputs": [],
   "source": [
    "dataset = 'model/keypoint_classifier/keypoint.csv'\n",
    "model_save_path = 'model/keypoint_classifier/keypoint_classifier.hdf5'\n",
    "tflite_save_path = 'model/keypoint_classifier/keypoint_classifier.tflite'"
   ]
  },
  {
   "cell_type": "markdown",
   "metadata": {
    "id": "s5oMH7x19hEz"
   },
   "source": [
    "# Set number of classes"
   ]
  },
  {
   "cell_type": "code",
   "execution_count": 3,
   "metadata": {
    "id": "du4kodXL9hEz"
   },
   "outputs": [],
   "source": [
    "NUM_CLASSES = 13"
   ]
  },
  {
   "cell_type": "markdown",
   "metadata": {
    "id": "XjnL0uso9hEz"
   },
   "source": [
    "# Dataset reading"
   ]
  },
  {
   "cell_type": "code",
   "execution_count": 4,
   "metadata": {
    "id": "QT5ZqtEz9hE0"
   },
   "outputs": [],
   "source": [
    "X_dataset = np.loadtxt(dataset, delimiter=',', dtype='float32', usecols=list(range(1, (21 * 2) + 1)))"
   ]
  },
  {
   "cell_type": "code",
   "execution_count": 5,
   "metadata": {
    "id": "QmoKFsp49hE0"
   },
   "outputs": [],
   "source": [
    "y_dataset = np.loadtxt(dataset, delimiter=',', dtype='int32', usecols=(0))"
   ]
  },
  {
   "cell_type": "code",
   "execution_count": 6,
   "metadata": {
    "id": "xQU7JTZ_9hE0"
   },
   "outputs": [],
   "source": [
    "X_train, X_test, y_train, y_test = train_test_split(X_dataset, y_dataset, train_size=0.75, random_state=RANDOM_SEED)"
   ]
  },
  {
   "cell_type": "markdown",
   "metadata": {
    "id": "mxK_lETT9hE0"
   },
   "source": [
    "# Model building"
   ]
  },
  {
   "cell_type": "code",
   "execution_count": 7,
   "metadata": {
    "id": "vHBmUf1t9hE1"
   },
   "outputs": [],
   "source": [
    "model = tf.keras.models.Sequential([\n",
    "    tf.keras.layers.Input((21 * 2, )),\n",
    "    tf.keras.layers.Dropout(0.2),\n",
    "    tf.keras.layers.Dense(20, activation='relu'),\n",
    "    tf.keras.layers.Dropout(0.4),\n",
    "    tf.keras.layers.Dense(10, activation='relu'),\n",
    "    tf.keras.layers.Dense(NUM_CLASSES, activation='softmax')\n",
    "])"
   ]
  },
  {
   "cell_type": "code",
   "execution_count": 8,
   "metadata": {
    "colab": {
     "base_uri": "https://localhost:8080/"
    },
    "id": "ypqky9tc9hE1",
    "outputId": "5db082bb-30e3-4110-bf63-a1ee777ecd46"
   },
   "outputs": [
    {
     "name": "stdout",
     "output_type": "stream",
     "text": [
      "Model: \"sequential\"\n",
      "_________________________________________________________________\n",
      " Layer (type)                Output Shape              Param #   \n",
      "=================================================================\n",
      " dropout (Dropout)           (None, 42)                0         \n",
      "                                                                 \n",
      " dense (Dense)               (None, 20)                860       \n",
      "                                                                 \n",
      " dropout_1 (Dropout)         (None, 20)                0         \n",
      "                                                                 \n",
      " dense_1 (Dense)             (None, 10)                210       \n",
      "                                                                 \n",
      " dense_2 (Dense)             (None, 13)                143       \n",
      "                                                                 \n",
      "=================================================================\n",
      "Total params: 1,213\n",
      "Trainable params: 1,213\n",
      "Non-trainable params: 0\n",
      "_________________________________________________________________\n"
     ]
    }
   ],
   "source": [
    "model.summary()  # tf.keras.utils.plot_model(model, show_shapes=True)"
   ]
  },
  {
   "cell_type": "code",
   "execution_count": 9,
   "metadata": {
    "id": "MbMjOflQ9hE1"
   },
   "outputs": [],
   "source": [
    "# Model checkpoint callback\n",
    "cp_callback = tf.keras.callbacks.ModelCheckpoint(\n",
    "    model_save_path, verbose=1, save_weights_only=False)\n",
    "# Callback for early stopping\n",
    "es_callback = tf.keras.callbacks.EarlyStopping(patience=20, verbose=1)"
   ]
  },
  {
   "cell_type": "code",
   "execution_count": 10,
   "metadata": {
    "id": "c3Dac0M_9hE2"
   },
   "outputs": [],
   "source": [
    "# Model compilation\n",
    "model.compile(\n",
    "    optimizer='adam',\n",
    "    loss='sparse_categorical_crossentropy',\n",
    "    metrics=['accuracy']\n",
    ")"
   ]
  },
  {
   "cell_type": "markdown",
   "metadata": {
    "id": "7XI0j1Iu9hE2"
   },
   "source": [
    "# Model training"
   ]
  },
  {
   "cell_type": "code",
   "execution_count": 11,
   "metadata": {
    "colab": {
     "base_uri": "https://localhost:8080/"
    },
    "id": "WirBl-JE9hE3",
    "outputId": "71b30ca2-8294-4d9d-8aa2-800d90d399de",
    "scrolled": true
   },
   "outputs": [
    {
     "name": "stdout",
     "output_type": "stream",
     "text": [
      "Epoch 1/1000\n",
      "26/34 [=====================>........] - ETA: 0s - loss: 2.5471 - accuracy: 0.1893\n",
      "Epoch 1: saving model to model/keypoint_classifier\\keypoint_classifier.hdf5\n",
      "34/34 [==============================] - 2s 20ms/step - loss: 2.5230 - accuracy: 0.1990 - val_loss: 2.3967 - val_accuracy: 0.2763\n",
      "Epoch 2/1000\n",
      "26/34 [=====================>........] - ETA: 0s - loss: 2.3456 - accuracy: 0.2659\n",
      "Epoch 2: saving model to model/keypoint_classifier\\keypoint_classifier.hdf5\n",
      "34/34 [==============================] - 0s 8ms/step - loss: 2.3215 - accuracy: 0.2709 - val_loss: 2.1741 - val_accuracy: 0.2806\n",
      "Epoch 3/1000\n",
      "27/34 [======================>.......] - ETA: 0s - loss: 2.1074 - accuracy: 0.2934\n",
      "Epoch 3: saving model to model/keypoint_classifier\\keypoint_classifier.hdf5\n",
      "34/34 [==============================] - 0s 8ms/step - loss: 2.0841 - accuracy: 0.2930 - val_loss: 1.8828 - val_accuracy: 0.2947\n",
      "Epoch 4/1000\n",
      "28/34 [=======================>......] - ETA: 0s - loss: 1.8586 - accuracy: 0.3131\n",
      "Epoch 4: saving model to model/keypoint_classifier\\keypoint_classifier.hdf5\n",
      "34/34 [==============================] - 0s 8ms/step - loss: 1.8512 - accuracy: 0.3121 - val_loss: 1.6555 - val_accuracy: 0.4184\n",
      "Epoch 5/1000\n",
      "26/34 [=====================>........] - ETA: 0s - loss: 1.7221 - accuracy: 0.3293\n",
      "Epoch 5: saving model to model/keypoint_classifier\\keypoint_classifier.hdf5\n",
      "34/34 [==============================] - 0s 9ms/step - loss: 1.7117 - accuracy: 0.3279 - val_loss: 1.5413 - val_accuracy: 0.4572\n",
      "Epoch 6/1000\n",
      "29/34 [========================>.....] - ETA: 0s - loss: 1.6219 - accuracy: 0.3588\n",
      "Epoch 6: saving model to model/keypoint_classifier\\keypoint_classifier.hdf5\n",
      "34/34 [==============================] - 0s 9ms/step - loss: 1.6145 - accuracy: 0.3604 - val_loss: 1.4558 - val_accuracy: 0.5067\n",
      "Epoch 7/1000\n",
      "29/34 [========================>.....] - ETA: 0s - loss: 1.5560 - accuracy: 0.3798\n",
      "Epoch 7: saving model to model/keypoint_classifier\\keypoint_classifier.hdf5\n",
      "34/34 [==============================] - 0s 8ms/step - loss: 1.5489 - accuracy: 0.3805 - val_loss: 1.3880 - val_accuracy: 0.5753\n",
      "Epoch 8/1000\n",
      "30/34 [=========================>....] - ETA: 0s - loss: 1.4971 - accuracy: 0.4057\n",
      "Epoch 8: saving model to model/keypoint_classifier\\keypoint_classifier.hdf5\n",
      "34/34 [==============================] - 0s 8ms/step - loss: 1.4922 - accuracy: 0.4088 - val_loss: 1.3112 - val_accuracy: 0.6092\n",
      "Epoch 9/1000\n",
      "28/34 [=======================>......] - ETA: 0s - loss: 1.4428 - accuracy: 0.4138\n",
      "Epoch 9: saving model to model/keypoint_classifier\\keypoint_classifier.hdf5\n",
      "34/34 [==============================] - 0s 10ms/step - loss: 1.4399 - accuracy: 0.4161 - val_loss: 1.2527 - val_accuracy: 0.6537\n",
      "Epoch 10/1000\n",
      "26/34 [=====================>........] - ETA: 0s - loss: 1.4005 - accuracy: 0.4477\n",
      "Epoch 10: saving model to model/keypoint_classifier\\keypoint_classifier.hdf5\n",
      "34/34 [==============================] - 0s 8ms/step - loss: 1.3989 - accuracy: 0.4477 - val_loss: 1.1984 - val_accuracy: 0.6989\n",
      "Epoch 11/1000\n",
      "28/34 [=======================>......] - ETA: 0s - loss: 1.3738 - accuracy: 0.4551\n",
      "Epoch 11: saving model to model/keypoint_classifier\\keypoint_classifier.hdf5\n",
      "34/34 [==============================] - 0s 8ms/step - loss: 1.3719 - accuracy: 0.4576 - val_loss: 1.1472 - val_accuracy: 0.7279\n",
      "Epoch 12/1000\n",
      "31/34 [==========================>...] - ETA: 0s - loss: 1.3207 - accuracy: 0.4819\n",
      "Epoch 12: saving model to model/keypoint_classifier\\keypoint_classifier.hdf5\n",
      "34/34 [==============================] - 0s 10ms/step - loss: 1.3198 - accuracy: 0.4833 - val_loss: 1.0942 - val_accuracy: 0.7435\n",
      "Epoch 13/1000\n",
      "32/34 [===========================>..] - ETA: 0s - loss: 1.3037 - accuracy: 0.4973\n",
      "Epoch 13: saving model to model/keypoint_classifier\\keypoint_classifier.hdf5\n",
      "34/34 [==============================] - 0s 10ms/step - loss: 1.2986 - accuracy: 0.4976 - val_loss: 1.0390 - val_accuracy: 0.7463\n",
      "Epoch 14/1000\n",
      "24/34 [====================>.........] - ETA: 0s - loss: 1.2649 - accuracy: 0.5094\n",
      "Epoch 14: saving model to model/keypoint_classifier\\keypoint_classifier.hdf5\n",
      "34/34 [==============================] - 0s 9ms/step - loss: 1.2701 - accuracy: 0.5087 - val_loss: 1.0008 - val_accuracy: 0.7576\n",
      "Epoch 15/1000\n",
      "27/34 [======================>.......] - ETA: 0s - loss: 1.2558 - accuracy: 0.5139\n",
      "Epoch 15: saving model to model/keypoint_classifier\\keypoint_classifier.hdf5\n",
      "34/34 [==============================] - 0s 8ms/step - loss: 1.2423 - accuracy: 0.5196 - val_loss: 0.9635 - val_accuracy: 0.7625\n",
      "Epoch 16/1000\n",
      "30/34 [=========================>....] - ETA: 0s - loss: 1.2079 - accuracy: 0.5419\n",
      "Epoch 16: saving model to model/keypoint_classifier\\keypoint_classifier.hdf5\n",
      "34/34 [==============================] - 0s 7ms/step - loss: 1.2076 - accuracy: 0.5436 - val_loss: 0.9210 - val_accuracy: 0.7915\n",
      "Epoch 17/1000\n",
      "30/34 [=========================>....] - ETA: 0s - loss: 1.1956 - accuracy: 0.5385\n",
      "Epoch 17: saving model to model/keypoint_classifier\\keypoint_classifier.hdf5\n",
      "34/34 [==============================] - 0s 7ms/step - loss: 1.1887 - accuracy: 0.5408 - val_loss: 0.8903 - val_accuracy: 0.7894\n",
      "Epoch 18/1000\n",
      "28/34 [=======================>......] - ETA: 0s - loss: 1.1575 - accuracy: 0.5628\n",
      "Epoch 18: saving model to model/keypoint_classifier\\keypoint_classifier.hdf5\n",
      "34/34 [==============================] - 0s 7ms/step - loss: 1.1536 - accuracy: 0.5634 - val_loss: 0.8586 - val_accuracy: 0.7866\n",
      "Epoch 19/1000\n",
      "27/34 [======================>.......] - ETA: 0s - loss: 1.1274 - accuracy: 0.5660\n",
      "Epoch 19: saving model to model/keypoint_classifier\\keypoint_classifier.hdf5\n",
      "34/34 [==============================] - 0s 8ms/step - loss: 1.1215 - accuracy: 0.5693 - val_loss: 0.8296 - val_accuracy: 0.8049\n",
      "Epoch 20/1000\n",
      "26/34 [=====================>........] - ETA: 0s - loss: 1.1154 - accuracy: 0.5802\n",
      "Epoch 20: saving model to model/keypoint_classifier\\keypoint_classifier.hdf5\n",
      "34/34 [==============================] - 0s 8ms/step - loss: 1.1121 - accuracy: 0.5816 - val_loss: 0.8000 - val_accuracy: 0.8155\n",
      "Epoch 21/1000\n",
      "31/34 [==========================>...] - ETA: 0s - loss: 1.1009 - accuracy: 0.5874\n",
      "Epoch 21: saving model to model/keypoint_classifier\\keypoint_classifier.hdf5\n",
      "34/34 [==============================] - 0s 8ms/step - loss: 1.0999 - accuracy: 0.5853 - val_loss: 0.7793 - val_accuracy: 0.8106\n",
      "Epoch 22/1000\n",
      "33/34 [============================>.] - ETA: 0s - loss: 1.0809 - accuracy: 0.5956\n",
      "Epoch 22: saving model to model/keypoint_classifier\\keypoint_classifier.hdf5\n",
      "34/34 [==============================] - 0s 7ms/step - loss: 1.0803 - accuracy: 0.5962 - val_loss: 0.7576 - val_accuracy: 0.8212\n",
      "Epoch 23/1000\n",
      "31/34 [==========================>...] - ETA: 0s - loss: 1.0834 - accuracy: 0.5970\n",
      "Epoch 23: saving model to model/keypoint_classifier\\keypoint_classifier.hdf5\n",
      "34/34 [==============================] - 0s 7ms/step - loss: 1.0838 - accuracy: 0.5974 - val_loss: 0.7368 - val_accuracy: 0.8339\n",
      "Epoch 24/1000\n",
      "28/34 [=======================>......] - ETA: 0s - loss: 1.0692 - accuracy: 0.6074\n",
      "Epoch 24: saving model to model/keypoint_classifier\\keypoint_classifier.hdf5\n",
      "34/34 [==============================] - 0s 8ms/step - loss: 1.0668 - accuracy: 0.6073 - val_loss: 0.7181 - val_accuracy: 0.8261\n",
      "Epoch 25/1000\n",
      "31/34 [==========================>...] - ETA: 0s - loss: 1.0510 - accuracy: 0.6023\n",
      "Epoch 25: saving model to model/keypoint_classifier\\keypoint_classifier.hdf5\n",
      "34/34 [==============================] - 0s 8ms/step - loss: 1.0494 - accuracy: 0.6018 - val_loss: 0.7032 - val_accuracy: 0.8403\n",
      "Epoch 26/1000\n",
      "30/34 [=========================>....] - ETA: 0s - loss: 1.0436 - accuracy: 0.5951\n",
      "Epoch 26: saving model to model/keypoint_classifier\\keypoint_classifier.hdf5\n",
      "34/34 [==============================] - 0s 8ms/step - loss: 1.0424 - accuracy: 0.5950 - val_loss: 0.6944 - val_accuracy: 0.8389\n",
      "Epoch 27/1000\n",
      "24/34 [====================>.........] - ETA: 0s - loss: 1.0326 - accuracy: 0.6130\n",
      "Epoch 27: saving model to model/keypoint_classifier\\keypoint_classifier.hdf5\n",
      "34/34 [==============================] - 0s 9ms/step - loss: 1.0230 - accuracy: 0.6150 - val_loss: 0.6810 - val_accuracy: 0.8396\n",
      "Epoch 28/1000\n"
     ]
    },
    {
     "name": "stdout",
     "output_type": "stream",
     "text": [
      "23/34 [===================>..........] - ETA: 0s - loss: 1.0204 - accuracy: 0.6202\n",
      "Epoch 28: saving model to model/keypoint_classifier\\keypoint_classifier.hdf5\n",
      "34/34 [==============================] - 0s 8ms/step - loss: 1.0214 - accuracy: 0.6179 - val_loss: 0.6568 - val_accuracy: 0.8537\n",
      "Epoch 29/1000\n",
      "30/34 [=========================>....] - ETA: 0s - loss: 0.9693 - accuracy: 0.6484\n",
      "Epoch 29: saving model to model/keypoint_classifier\\keypoint_classifier.hdf5\n",
      "34/34 [==============================] - 0s 7ms/step - loss: 0.9830 - accuracy: 0.6426 - val_loss: 0.6429 - val_accuracy: 0.8523\n",
      "Epoch 30/1000\n",
      "32/34 [===========================>..] - ETA: 0s - loss: 0.9979 - accuracy: 0.6331\n",
      "Epoch 30: saving model to model/keypoint_classifier\\keypoint_classifier.hdf5\n",
      "34/34 [==============================] - 0s 7ms/step - loss: 0.9980 - accuracy: 0.6325 - val_loss: 0.6306 - val_accuracy: 0.8509\n",
      "Epoch 31/1000\n",
      "31/34 [==========================>...] - ETA: 0s - loss: 0.9909 - accuracy: 0.6200\n",
      "Epoch 31: saving model to model/keypoint_classifier\\keypoint_classifier.hdf5\n",
      "34/34 [==============================] - 0s 7ms/step - loss: 0.9972 - accuracy: 0.6186 - val_loss: 0.6279 - val_accuracy: 0.8523\n",
      "Epoch 32/1000\n",
      "29/34 [========================>.....] - ETA: 0s - loss: 0.9723 - accuracy: 0.6358\n",
      "Epoch 32: saving model to model/keypoint_classifier\\keypoint_classifier.hdf5\n",
      "34/34 [==============================] - 0s 8ms/step - loss: 0.9703 - accuracy: 0.6360 - val_loss: 0.6166 - val_accuracy: 0.8594\n",
      "Epoch 33/1000\n",
      "31/34 [==========================>...] - ETA: 0s - loss: 0.9586 - accuracy: 0.6447\n",
      "Epoch 33: saving model to model/keypoint_classifier\\keypoint_classifier.hdf5\n",
      "34/34 [==============================] - 0s 7ms/step - loss: 0.9570 - accuracy: 0.6455 - val_loss: 0.5986 - val_accuracy: 0.8572\n",
      "Epoch 34/1000\n",
      "29/34 [========================>.....] - ETA: 0s - loss: 0.9543 - accuracy: 0.6387\n",
      "Epoch 34: saving model to model/keypoint_classifier\\keypoint_classifier.hdf5\n",
      "34/34 [==============================] - 0s 7ms/step - loss: 0.9492 - accuracy: 0.6440 - val_loss: 0.5938 - val_accuracy: 0.8523\n",
      "Epoch 35/1000\n",
      "23/34 [===================>..........] - ETA: 0s - loss: 0.9460 - accuracy: 0.6512\n",
      "Epoch 35: saving model to model/keypoint_classifier\\keypoint_classifier.hdf5\n",
      "34/34 [==============================] - 0s 9ms/step - loss: 0.9445 - accuracy: 0.6497 - val_loss: 0.5827 - val_accuracy: 0.8601\n",
      "Epoch 36/1000\n",
      "26/34 [=====================>........] - ETA: 0s - loss: 0.9445 - accuracy: 0.6436\n",
      "Epoch 36: saving model to model/keypoint_classifier\\keypoint_classifier.hdf5\n",
      "34/34 [==============================] - 0s 8ms/step - loss: 0.9487 - accuracy: 0.6440 - val_loss: 0.5798 - val_accuracy: 0.8608\n",
      "Epoch 37/1000\n",
      "30/34 [=========================>....] - ETA: 0s - loss: 0.9353 - accuracy: 0.6464\n",
      "Epoch 37: saving model to model/keypoint_classifier\\keypoint_classifier.hdf5\n",
      "34/34 [==============================] - 0s 7ms/step - loss: 0.9356 - accuracy: 0.6480 - val_loss: 0.5681 - val_accuracy: 0.8714\n",
      "Epoch 38/1000\n",
      "25/34 [=====================>........] - ETA: 0s - loss: 0.9138 - accuracy: 0.6556\n",
      "Epoch 38: saving model to model/keypoint_classifier\\keypoint_classifier.hdf5\n",
      "34/34 [==============================] - 0s 9ms/step - loss: 0.9333 - accuracy: 0.6502 - val_loss: 0.5611 - val_accuracy: 0.8749\n",
      "Epoch 39/1000\n",
      "27/34 [======================>.......] - ETA: 0s - loss: 0.9276 - accuracy: 0.6487\n",
      "Epoch 39: saving model to model/keypoint_classifier\\keypoint_classifier.hdf5\n",
      "34/34 [==============================] - 0s 8ms/step - loss: 0.9149 - accuracy: 0.6577 - val_loss: 0.5524 - val_accuracy: 0.8749\n",
      "Epoch 40/1000\n",
      "25/34 [=====================>........] - ETA: 0s - loss: 0.9033 - accuracy: 0.6678\n",
      "Epoch 40: saving model to model/keypoint_classifier\\keypoint_classifier.hdf5\n",
      "34/34 [==============================] - 1s 17ms/step - loss: 0.9093 - accuracy: 0.6674 - val_loss: 0.5390 - val_accuracy: 0.8784\n",
      "Epoch 41/1000\n",
      "26/34 [=====================>........] - ETA: 0s - loss: 0.8846 - accuracy: 0.6773\n",
      "Epoch 41: saving model to model/keypoint_classifier\\keypoint_classifier.hdf5\n",
      "34/34 [==============================] - 0s 8ms/step - loss: 0.8898 - accuracy: 0.6787 - val_loss: 0.5349 - val_accuracy: 0.8763\n",
      "Epoch 42/1000\n",
      "28/34 [=======================>......] - ETA: 0s - loss: 0.9198 - accuracy: 0.6613\n",
      "Epoch 42: saving model to model/keypoint_classifier\\keypoint_classifier.hdf5\n",
      "34/34 [==============================] - 0s 8ms/step - loss: 0.9055 - accuracy: 0.6683 - val_loss: 0.5291 - val_accuracy: 0.8820\n",
      "Epoch 43/1000\n",
      "27/34 [======================>.......] - ETA: 0s - loss: 0.8857 - accuracy: 0.6690\n",
      "Epoch 43: saving model to model/keypoint_classifier\\keypoint_classifier.hdf5\n",
      "34/34 [==============================] - 0s 8ms/step - loss: 0.8889 - accuracy: 0.6676 - val_loss: 0.5218 - val_accuracy: 0.8806\n",
      "Epoch 44/1000\n",
      "26/34 [=====================>........] - ETA: 0s - loss: 0.8996 - accuracy: 0.6698\n",
      "Epoch 44: saving model to model/keypoint_classifier\\keypoint_classifier.hdf5\n",
      "34/34 [==============================] - 0s 9ms/step - loss: 0.9010 - accuracy: 0.6700 - val_loss: 0.5132 - val_accuracy: 0.8926\n",
      "Epoch 45/1000\n",
      "29/34 [========================>.....] - ETA: 0s - loss: 0.8876 - accuracy: 0.6681\n",
      "Epoch 45: saving model to model/keypoint_classifier\\keypoint_classifier.hdf5\n",
      "34/34 [==============================] - 0s 8ms/step - loss: 0.8946 - accuracy: 0.6662 - val_loss: 0.5052 - val_accuracy: 0.9025\n",
      "Epoch 46/1000\n",
      "27/34 [======================>.......] - ETA: 0s - loss: 0.8981 - accuracy: 0.6644\n",
      "Epoch 46: saving model to model/keypoint_classifier\\keypoint_classifier.hdf5\n",
      "34/34 [==============================] - 0s 8ms/step - loss: 0.9043 - accuracy: 0.6638 - val_loss: 0.5071 - val_accuracy: 0.8940\n",
      "Epoch 47/1000\n",
      "32/34 [===========================>..] - ETA: 0s - loss: 0.8801 - accuracy: 0.6782\n",
      "Epoch 47: saving model to model/keypoint_classifier\\keypoint_classifier.hdf5\n",
      "34/34 [==============================] - 0s 7ms/step - loss: 0.8801 - accuracy: 0.6785 - val_loss: 0.5060 - val_accuracy: 0.8961\n",
      "Epoch 48/1000\n",
      "24/34 [====================>.........] - ETA: 0s - loss: 0.8728 - accuracy: 0.6647\n",
      "Epoch 48: saving model to model/keypoint_classifier\\keypoint_classifier.hdf5\n",
      "34/34 [==============================] - 0s 8ms/step - loss: 0.8844 - accuracy: 0.6638 - val_loss: 0.4983 - val_accuracy: 0.8883\n",
      "Epoch 49/1000\n",
      "30/34 [=========================>....] - ETA: 0s - loss: 0.8878 - accuracy: 0.6794\n",
      "Epoch 49: saving model to model/keypoint_classifier\\keypoint_classifier.hdf5\n",
      "34/34 [==============================] - 0s 7ms/step - loss: 0.8849 - accuracy: 0.6808 - val_loss: 0.4916 - val_accuracy: 0.8919\n",
      "Epoch 50/1000\n",
      "31/34 [==========================>...] - ETA: 0s - loss: 0.8654 - accuracy: 0.6847\n",
      "Epoch 50: saving model to model/keypoint_classifier\\keypoint_classifier.hdf5\n",
      "34/34 [==============================] - 0s 8ms/step - loss: 0.8625 - accuracy: 0.6855 - val_loss: 0.4910 - val_accuracy: 0.8898\n",
      "Epoch 51/1000\n",
      "31/34 [==========================>...] - ETA: 0s - loss: 0.8645 - accuracy: 0.6842\n",
      "Epoch 51: saving model to model/keypoint_classifier\\keypoint_classifier.hdf5\n",
      "34/34 [==============================] - 0s 7ms/step - loss: 0.8621 - accuracy: 0.6827 - val_loss: 0.4829 - val_accuracy: 0.9102\n",
      "Epoch 52/1000\n",
      "25/34 [=====================>........] - ETA: 0s - loss: 0.8753 - accuracy: 0.6706\n",
      "Epoch 52: saving model to model/keypoint_classifier\\keypoint_classifier.hdf5\n",
      "34/34 [==============================] - 0s 9ms/step - loss: 0.8772 - accuracy: 0.6693 - val_loss: 0.4837 - val_accuracy: 0.8961\n",
      "Epoch 53/1000\n",
      "34/34 [==============================] - ETA: 0s - loss: 0.8520 - accuracy: 0.6879\n",
      "Epoch 53: saving model to model/keypoint_classifier\\keypoint_classifier.hdf5\n",
      "34/34 [==============================] - 0s 9ms/step - loss: 0.8520 - accuracy: 0.6879 - val_loss: 0.4752 - val_accuracy: 0.9187\n",
      "Epoch 54/1000\n",
      "30/34 [=========================>....] - ETA: 0s - loss: 0.8584 - accuracy: 0.6839\n",
      "Epoch 54: saving model to model/keypoint_classifier\\keypoint_classifier.hdf5\n",
      "34/34 [==============================] - 0s 10ms/step - loss: 0.8586 - accuracy: 0.6822 - val_loss: 0.4646 - val_accuracy: 0.9131\n",
      "Epoch 55/1000\n"
     ]
    },
    {
     "name": "stdout",
     "output_type": "stream",
     "text": [
      "30/34 [=========================>....] - ETA: 0s - loss: 0.8480 - accuracy: 0.6820\n",
      "Epoch 55: saving model to model/keypoint_classifier\\keypoint_classifier.hdf5\n",
      "34/34 [==============================] - 0s 7ms/step - loss: 0.8467 - accuracy: 0.6834 - val_loss: 0.4681 - val_accuracy: 0.8940\n",
      "Epoch 56/1000\n",
      "30/34 [=========================>....] - ETA: 0s - loss: 0.8461 - accuracy: 0.6883\n",
      "Epoch 56: saving model to model/keypoint_classifier\\keypoint_classifier.hdf5\n",
      "34/34 [==============================] - 0s 7ms/step - loss: 0.8442 - accuracy: 0.6886 - val_loss: 0.4632 - val_accuracy: 0.9102\n",
      "Epoch 57/1000\n",
      "32/34 [===========================>..] - ETA: 0s - loss: 0.8421 - accuracy: 0.6843\n",
      "Epoch 57: saving model to model/keypoint_classifier\\keypoint_classifier.hdf5\n",
      "34/34 [==============================] - 0s 7ms/step - loss: 0.8413 - accuracy: 0.6832 - val_loss: 0.4549 - val_accuracy: 0.9088\n",
      "Epoch 58/1000\n",
      "23/34 [===================>..........] - ETA: 0s - loss: 0.8490 - accuracy: 0.6929\n",
      "Epoch 58: saving model to model/keypoint_classifier\\keypoint_classifier.hdf5\n",
      "34/34 [==============================] - 0s 9ms/step - loss: 0.8457 - accuracy: 0.6945 - val_loss: 0.4572 - val_accuracy: 0.9138\n",
      "Epoch 59/1000\n",
      "28/34 [=======================>......] - ETA: 0s - loss: 0.8273 - accuracy: 0.6950\n",
      "Epoch 59: saving model to model/keypoint_classifier\\keypoint_classifier.hdf5\n",
      "34/34 [==============================] - 0s 7ms/step - loss: 0.8167 - accuracy: 0.7001 - val_loss: 0.4460 - val_accuracy: 0.9166\n",
      "Epoch 60/1000\n",
      "30/34 [=========================>....] - ETA: 0s - loss: 0.8496 - accuracy: 0.6883\n",
      "Epoch 60: saving model to model/keypoint_classifier\\keypoint_classifier.hdf5\n",
      "34/34 [==============================] - 0s 7ms/step - loss: 0.8478 - accuracy: 0.6888 - val_loss: 0.4466 - val_accuracy: 0.9187\n",
      "Epoch 61/1000\n",
      "28/34 [=======================>......] - ETA: 0s - loss: 0.8001 - accuracy: 0.7070\n",
      "Epoch 61: saving model to model/keypoint_classifier\\keypoint_classifier.hdf5\n",
      "34/34 [==============================] - 0s 8ms/step - loss: 0.8076 - accuracy: 0.7004 - val_loss: 0.4343 - val_accuracy: 0.9279\n",
      "Epoch 62/1000\n",
      "29/34 [========================>.....] - ETA: 0s - loss: 0.8309 - accuracy: 0.6983\n",
      "Epoch 62: saving model to model/keypoint_classifier\\keypoint_classifier.hdf5\n",
      "34/34 [==============================] - 0s 8ms/step - loss: 0.8359 - accuracy: 0.6978 - val_loss: 0.4342 - val_accuracy: 0.9300\n",
      "Epoch 63/1000\n",
      "28/34 [=======================>......] - ETA: 0s - loss: 0.8214 - accuracy: 0.6922\n",
      "Epoch 63: saving model to model/keypoint_classifier\\keypoint_classifier.hdf5\n",
      "34/34 [==============================] - 0s 8ms/step - loss: 0.8229 - accuracy: 0.6921 - val_loss: 0.4341 - val_accuracy: 0.9279\n",
      "Epoch 64/1000\n",
      "27/34 [======================>.......] - ETA: 0s - loss: 0.8151 - accuracy: 0.7025\n",
      "Epoch 64: saving model to model/keypoint_classifier\\keypoint_classifier.hdf5\n",
      "34/34 [==============================] - 0s 8ms/step - loss: 0.8130 - accuracy: 0.7008 - val_loss: 0.4312 - val_accuracy: 0.9343\n",
      "Epoch 65/1000\n",
      "28/34 [=======================>......] - ETA: 0s - loss: 0.8253 - accuracy: 0.6975\n",
      "Epoch 65: saving model to model/keypoint_classifier\\keypoint_classifier.hdf5\n",
      "34/34 [==============================] - 0s 8ms/step - loss: 0.8308 - accuracy: 0.6933 - val_loss: 0.4287 - val_accuracy: 0.9258\n",
      "Epoch 66/1000\n",
      "28/34 [=======================>......] - ETA: 0s - loss: 0.8120 - accuracy: 0.7012\n",
      "Epoch 66: saving model to model/keypoint_classifier\\keypoint_classifier.hdf5\n",
      "34/34 [==============================] - 0s 8ms/step - loss: 0.8131 - accuracy: 0.7034 - val_loss: 0.4237 - val_accuracy: 0.9216\n",
      "Epoch 67/1000\n",
      "27/34 [======================>.......] - ETA: 0s - loss: 0.7824 - accuracy: 0.7101\n",
      "Epoch 67: saving model to model/keypoint_classifier\\keypoint_classifier.hdf5\n",
      "34/34 [==============================] - 0s 7ms/step - loss: 0.7933 - accuracy: 0.7065 - val_loss: 0.4190 - val_accuracy: 0.9300\n",
      "Epoch 68/1000\n",
      "25/34 [=====================>........] - ETA: 0s - loss: 0.8272 - accuracy: 0.7069\n",
      "Epoch 68: saving model to model/keypoint_classifier\\keypoint_classifier.hdf5\n",
      "34/34 [==============================] - 0s 8ms/step - loss: 0.8225 - accuracy: 0.7027 - val_loss: 0.4316 - val_accuracy: 0.9208\n",
      "Epoch 69/1000\n",
      "30/34 [=========================>....] - ETA: 0s - loss: 0.8072 - accuracy: 0.6948\n",
      "Epoch 69: saving model to model/keypoint_classifier\\keypoint_classifier.hdf5\n",
      "34/34 [==============================] - 0s 7ms/step - loss: 0.8008 - accuracy: 0.6994 - val_loss: 0.4204 - val_accuracy: 0.9307\n",
      "Epoch 70/1000\n",
      "25/34 [=====================>........] - ETA: 0s - loss: 0.8224 - accuracy: 0.6997\n",
      "Epoch 70: saving model to model/keypoint_classifier\\keypoint_classifier.hdf5\n",
      "34/34 [==============================] - 0s 9ms/step - loss: 0.8162 - accuracy: 0.7001 - val_loss: 0.4198 - val_accuracy: 0.9286\n",
      "Epoch 71/1000\n",
      "30/34 [=========================>....] - ETA: 0s - loss: 0.8158 - accuracy: 0.6984\n",
      "Epoch 71: saving model to model/keypoint_classifier\\keypoint_classifier.hdf5\n",
      "34/34 [==============================] - 0s 7ms/step - loss: 0.8129 - accuracy: 0.6980 - val_loss: 0.4216 - val_accuracy: 0.9272\n",
      "Epoch 72/1000\n",
      "30/34 [=========================>....] - ETA: 0s - loss: 0.8013 - accuracy: 0.7060\n",
      "Epoch 72: saving model to model/keypoint_classifier\\keypoint_classifier.hdf5\n",
      "34/34 [==============================] - 0s 7ms/step - loss: 0.7998 - accuracy: 0.7067 - val_loss: 0.4142 - val_accuracy: 0.9322\n",
      "Epoch 73/1000\n",
      "28/34 [=======================>......] - ETA: 0s - loss: 0.7807 - accuracy: 0.7126\n",
      "Epoch 73: saving model to model/keypoint_classifier\\keypoint_classifier.hdf5\n",
      "34/34 [==============================] - 0s 8ms/step - loss: 0.7892 - accuracy: 0.7074 - val_loss: 0.4100 - val_accuracy: 0.9286\n",
      "Epoch 74/1000\n",
      "29/34 [========================>.....] - ETA: 0s - loss: 0.7841 - accuracy: 0.7144\n",
      "Epoch 74: saving model to model/keypoint_classifier\\keypoint_classifier.hdf5\n",
      "34/34 [==============================] - 0s 8ms/step - loss: 0.7854 - accuracy: 0.7136 - val_loss: 0.4132 - val_accuracy: 0.9357\n",
      "Epoch 75/1000\n",
      "28/34 [=======================>......] - ETA: 0s - loss: 0.7871 - accuracy: 0.7165\n",
      "Epoch 75: saving model to model/keypoint_classifier\\keypoint_classifier.hdf5\n",
      "34/34 [==============================] - 0s 8ms/step - loss: 0.7875 - accuracy: 0.7157 - val_loss: 0.4128 - val_accuracy: 0.9314\n",
      "Epoch 76/1000\n",
      "34/34 [==============================] - ETA: 0s - loss: 0.7911 - accuracy: 0.7093\n",
      "Epoch 76: saving model to model/keypoint_classifier\\keypoint_classifier.hdf5\n",
      "34/34 [==============================] - 0s 10ms/step - loss: 0.7911 - accuracy: 0.7093 - val_loss: 0.4096 - val_accuracy: 0.9329\n",
      "Epoch 77/1000\n",
      "24/34 [====================>.........] - ETA: 0s - loss: 0.7927 - accuracy: 0.7035\n",
      "Epoch 77: saving model to model/keypoint_classifier\\keypoint_classifier.hdf5\n",
      "34/34 [==============================] - 0s 9ms/step - loss: 0.7926 - accuracy: 0.7027 - val_loss: 0.4080 - val_accuracy: 0.9336\n",
      "Epoch 78/1000\n",
      "23/34 [===================>..........] - ETA: 0s - loss: 0.7624 - accuracy: 0.7266\n",
      "Epoch 78: saving model to model/keypoint_classifier\\keypoint_classifier.hdf5\n",
      "34/34 [==============================] - 0s 9ms/step - loss: 0.7731 - accuracy: 0.7174 - val_loss: 0.3923 - val_accuracy: 0.9378\n",
      "Epoch 79/1000\n",
      "30/34 [=========================>....] - ETA: 0s - loss: 0.7966 - accuracy: 0.7135\n",
      "Epoch 79: saving model to model/keypoint_classifier\\keypoint_classifier.hdf5\n",
      "34/34 [==============================] - 0s 7ms/step - loss: 0.7936 - accuracy: 0.7105 - val_loss: 0.4080 - val_accuracy: 0.9329\n",
      "Epoch 80/1000\n",
      "28/34 [=======================>......] - ETA: 0s - loss: 0.7637 - accuracy: 0.7140\n",
      "Epoch 80: saving model to model/keypoint_classifier\\keypoint_classifier.hdf5\n",
      "34/34 [==============================] - 0s 8ms/step - loss: 0.7763 - accuracy: 0.7122 - val_loss: 0.3986 - val_accuracy: 0.9385\n",
      "Epoch 81/1000\n",
      "28/34 [=======================>......] - ETA: 0s - loss: 0.7616 - accuracy: 0.7215\n",
      "Epoch 81: saving model to model/keypoint_classifier\\keypoint_classifier.hdf5\n",
      "34/34 [==============================] - 0s 8ms/step - loss: 0.7652 - accuracy: 0.7202 - val_loss: 0.3936 - val_accuracy: 0.9371\n",
      "Epoch 82/1000\n"
     ]
    },
    {
     "name": "stdout",
     "output_type": "stream",
     "text": [
      "30/34 [=========================>....] - ETA: 0s - loss: 0.7750 - accuracy: 0.7096\n",
      "Epoch 82: saving model to model/keypoint_classifier\\keypoint_classifier.hdf5\n",
      "34/34 [==============================] - 0s 8ms/step - loss: 0.7787 - accuracy: 0.7067 - val_loss: 0.3947 - val_accuracy: 0.9371\n",
      "Epoch 83/1000\n",
      "32/34 [===========================>..] - ETA: 0s - loss: 0.8000 - accuracy: 0.7102\n",
      "Epoch 83: saving model to model/keypoint_classifier\\keypoint_classifier.hdf5\n",
      "34/34 [==============================] - 0s 7ms/step - loss: 0.7971 - accuracy: 0.7105 - val_loss: 0.4008 - val_accuracy: 0.9336\n",
      "Epoch 84/1000\n",
      "29/34 [========================>.....] - ETA: 0s - loss: 0.7607 - accuracy: 0.7244\n",
      "Epoch 84: saving model to model/keypoint_classifier\\keypoint_classifier.hdf5\n",
      "34/34 [==============================] - 0s 7ms/step - loss: 0.7681 - accuracy: 0.7199 - val_loss: 0.3916 - val_accuracy: 0.9371\n",
      "Epoch 85/1000\n",
      "24/34 [====================>.........] - ETA: 0s - loss: 0.7770 - accuracy: 0.7194\n",
      "Epoch 85: saving model to model/keypoint_classifier\\keypoint_classifier.hdf5\n",
      "34/34 [==============================] - 0s 9ms/step - loss: 0.7723 - accuracy: 0.7202 - val_loss: 0.3991 - val_accuracy: 0.9350\n",
      "Epoch 86/1000\n",
      "23/34 [===================>..........] - ETA: 0s - loss: 0.7803 - accuracy: 0.7181\n",
      "Epoch 86: saving model to model/keypoint_classifier\\keypoint_classifier.hdf5\n",
      "34/34 [==============================] - 0s 8ms/step - loss: 0.7751 - accuracy: 0.7199 - val_loss: 0.3849 - val_accuracy: 0.9399\n",
      "Epoch 87/1000\n",
      "30/34 [=========================>....] - ETA: 0s - loss: 0.7795 - accuracy: 0.7094\n",
      "Epoch 87: saving model to model/keypoint_classifier\\keypoint_classifier.hdf5\n",
      "34/34 [==============================] - 0s 8ms/step - loss: 0.7781 - accuracy: 0.7119 - val_loss: 0.4002 - val_accuracy: 0.9329\n",
      "Epoch 88/1000\n",
      "31/34 [==========================>...] - ETA: 0s - loss: 0.7618 - accuracy: 0.7266\n",
      "Epoch 88: saving model to model/keypoint_classifier\\keypoint_classifier.hdf5\n",
      "34/34 [==============================] - 0s 7ms/step - loss: 0.7657 - accuracy: 0.7254 - val_loss: 0.3917 - val_accuracy: 0.9378\n",
      "Epoch 89/1000\n",
      "32/34 [===========================>..] - ETA: 0s - loss: 0.7750 - accuracy: 0.7180\n",
      "Epoch 89: saving model to model/keypoint_classifier\\keypoint_classifier.hdf5\n",
      "34/34 [==============================] - 0s 7ms/step - loss: 0.7763 - accuracy: 0.7159 - val_loss: 0.3861 - val_accuracy: 0.9307\n",
      "Epoch 90/1000\n",
      "31/34 [==========================>...] - ETA: 0s - loss: 0.7449 - accuracy: 0.7298\n",
      "Epoch 90: saving model to model/keypoint_classifier\\keypoint_classifier.hdf5\n",
      "34/34 [==============================] - 0s 8ms/step - loss: 0.7461 - accuracy: 0.7306 - val_loss: 0.3846 - val_accuracy: 0.9385\n",
      "Epoch 91/1000\n",
      "32/34 [===========================>..] - ETA: 0s - loss: 0.7589 - accuracy: 0.7273\n",
      "Epoch 91: saving model to model/keypoint_classifier\\keypoint_classifier.hdf5\n",
      "34/34 [==============================] - 0s 7ms/step - loss: 0.7643 - accuracy: 0.7247 - val_loss: 0.3905 - val_accuracy: 0.9272\n",
      "Epoch 92/1000\n",
      "31/34 [==========================>...] - ETA: 0s - loss: 0.7455 - accuracy: 0.7303\n",
      "Epoch 92: saving model to model/keypoint_classifier\\keypoint_classifier.hdf5\n",
      "34/34 [==============================] - 0s 8ms/step - loss: 0.7439 - accuracy: 0.7303 - val_loss: 0.3863 - val_accuracy: 0.9307\n",
      "Epoch 93/1000\n",
      "24/34 [====================>.........] - ETA: 0s - loss: 0.7569 - accuracy: 0.7282\n",
      "Epoch 93: saving model to model/keypoint_classifier\\keypoint_classifier.hdf5\n",
      "34/34 [==============================] - 0s 9ms/step - loss: 0.7493 - accuracy: 0.7294 - val_loss: 0.3833 - val_accuracy: 0.9350\n",
      "Epoch 94/1000\n",
      "23/34 [===================>..........] - ETA: 0s - loss: 0.7811 - accuracy: 0.7126\n",
      "Epoch 94: saving model to model/keypoint_classifier\\keypoint_classifier.hdf5\n",
      "34/34 [==============================] - 0s 9ms/step - loss: 0.7583 - accuracy: 0.7298 - val_loss: 0.3858 - val_accuracy: 0.9364\n",
      "Epoch 95/1000\n",
      "28/34 [=======================>......] - ETA: 0s - loss: 0.7671 - accuracy: 0.7162\n",
      "Epoch 95: saving model to model/keypoint_classifier\\keypoint_classifier.hdf5\n",
      "34/34 [==============================] - 0s 8ms/step - loss: 0.7635 - accuracy: 0.7192 - val_loss: 0.3810 - val_accuracy: 0.9392\n",
      "Epoch 96/1000\n",
      "24/34 [====================>.........] - ETA: 0s - loss: 0.7424 - accuracy: 0.7344\n",
      "Epoch 96: saving model to model/keypoint_classifier\\keypoint_classifier.hdf5\n",
      "34/34 [==============================] - 0s 9ms/step - loss: 0.7603 - accuracy: 0.7225 - val_loss: 0.3846 - val_accuracy: 0.9371\n",
      "Epoch 97/1000\n",
      "28/34 [=======================>......] - ETA: 0s - loss: 0.7824 - accuracy: 0.7174\n",
      "Epoch 97: saving model to model/keypoint_classifier\\keypoint_classifier.hdf5\n",
      "34/34 [==============================] - 0s 8ms/step - loss: 0.7747 - accuracy: 0.7195 - val_loss: 0.3802 - val_accuracy: 0.9350\n",
      "Epoch 98/1000\n",
      "33/34 [============================>.] - ETA: 0s - loss: 0.7578 - accuracy: 0.7190\n",
      "Epoch 98: saving model to model/keypoint_classifier\\keypoint_classifier.hdf5\n",
      "34/34 [==============================] - 0s 9ms/step - loss: 0.7588 - accuracy: 0.7183 - val_loss: 0.3888 - val_accuracy: 0.9385\n",
      "Epoch 99/1000\n",
      "26/34 [=====================>........] - ETA: 0s - loss: 0.7749 - accuracy: 0.7091\n",
      "Epoch 99: saving model to model/keypoint_classifier\\keypoint_classifier.hdf5\n",
      "34/34 [==============================] - 0s 9ms/step - loss: 0.7599 - accuracy: 0.7140 - val_loss: 0.3738 - val_accuracy: 0.9420\n",
      "Epoch 100/1000\n",
      "26/34 [=====================>........] - ETA: 0s - loss: 0.7379 - accuracy: 0.7308\n",
      "Epoch 100: saving model to model/keypoint_classifier\\keypoint_classifier.hdf5\n",
      "34/34 [==============================] - 0s 8ms/step - loss: 0.7482 - accuracy: 0.7291 - val_loss: 0.3766 - val_accuracy: 0.9300\n",
      "Epoch 101/1000\n",
      "26/34 [=====================>........] - ETA: 0s - loss: 0.7140 - accuracy: 0.7332\n",
      "Epoch 101: saving model to model/keypoint_classifier\\keypoint_classifier.hdf5\n",
      "34/34 [==============================] - 0s 9ms/step - loss: 0.7237 - accuracy: 0.7324 - val_loss: 0.3632 - val_accuracy: 0.9428\n",
      "Epoch 102/1000\n",
      "25/34 [=====================>........] - ETA: 0s - loss: 0.7412 - accuracy: 0.7328\n",
      "Epoch 102: saving model to model/keypoint_classifier\\keypoint_classifier.hdf5\n",
      "34/34 [==============================] - 0s 9ms/step - loss: 0.7533 - accuracy: 0.7242 - val_loss: 0.3741 - val_accuracy: 0.9336\n",
      "Epoch 103/1000\n",
      "23/34 [===================>..........] - ETA: 0s - loss: 0.7345 - accuracy: 0.7262\n",
      "Epoch 103: saving model to model/keypoint_classifier\\keypoint_classifier.hdf5\n",
      "34/34 [==============================] - 0s 8ms/step - loss: 0.7380 - accuracy: 0.7263 - val_loss: 0.3664 - val_accuracy: 0.9406\n",
      "Epoch 104/1000\n",
      "32/34 [===========================>..] - ETA: 0s - loss: 0.7354 - accuracy: 0.7363\n",
      "Epoch 104: saving model to model/keypoint_classifier\\keypoint_classifier.hdf5\n",
      "34/34 [==============================] - 0s 7ms/step - loss: 0.7333 - accuracy: 0.7369 - val_loss: 0.3845 - val_accuracy: 0.9307\n",
      "Epoch 105/1000\n",
      "25/34 [=====================>........] - ETA: 0s - loss: 0.7442 - accuracy: 0.7228\n",
      "Epoch 105: saving model to model/keypoint_classifier\\keypoint_classifier.hdf5\n",
      "34/34 [==============================] - 0s 8ms/step - loss: 0.7351 - accuracy: 0.7287 - val_loss: 0.3765 - val_accuracy: 0.9371\n",
      "Epoch 106/1000\n",
      "31/34 [==========================>...] - ETA: 0s - loss: 0.7255 - accuracy: 0.7392\n",
      "Epoch 106: saving model to model/keypoint_classifier\\keypoint_classifier.hdf5\n",
      "34/34 [==============================] - 0s 7ms/step - loss: 0.7228 - accuracy: 0.7405 - val_loss: 0.3680 - val_accuracy: 0.9329\n",
      "Epoch 107/1000\n",
      "25/34 [=====================>........] - ETA: 0s - loss: 0.7269 - accuracy: 0.7387\n",
      "Epoch 107: saving model to model/keypoint_classifier\\keypoint_classifier.hdf5\n",
      "34/34 [==============================] - 0s 9ms/step - loss: 0.7292 - accuracy: 0.7334 - val_loss: 0.3616 - val_accuracy: 0.9350\n",
      "Epoch 108/1000\n",
      "30/34 [=========================>....] - ETA: 0s - loss: 0.7452 - accuracy: 0.7190\n",
      "Epoch 108: saving model to model/keypoint_classifier\\keypoint_classifier.hdf5\n",
      "34/34 [==============================] - 0s 7ms/step - loss: 0.7509 - accuracy: 0.7183 - val_loss: 0.3730 - val_accuracy: 0.9329\n",
      "Epoch 109/1000\n"
     ]
    },
    {
     "name": "stdout",
     "output_type": "stream",
     "text": [
      "28/34 [=======================>......] - ETA: 0s - loss: 0.7248 - accuracy: 0.7344\n",
      "Epoch 109: saving model to model/keypoint_classifier\\keypoint_classifier.hdf5\n",
      "34/34 [==============================] - 0s 8ms/step - loss: 0.7285 - accuracy: 0.7320 - val_loss: 0.3632 - val_accuracy: 0.9364\n",
      "Epoch 110/1000\n",
      "31/34 [==========================>...] - ETA: 0s - loss: 0.7393 - accuracy: 0.7341\n",
      "Epoch 110: saving model to model/keypoint_classifier\\keypoint_classifier.hdf5\n",
      "34/34 [==============================] - 0s 7ms/step - loss: 0.7435 - accuracy: 0.7336 - val_loss: 0.3709 - val_accuracy: 0.9364\n",
      "Epoch 111/1000\n",
      "31/34 [==========================>...] - ETA: 0s - loss: 0.7303 - accuracy: 0.7394\n",
      "Epoch 111: saving model to model/keypoint_classifier\\keypoint_classifier.hdf5\n",
      "34/34 [==============================] - 0s 11ms/step - loss: 0.7266 - accuracy: 0.7393 - val_loss: 0.3636 - val_accuracy: 0.9364\n",
      "Epoch 112/1000\n",
      "31/34 [==========================>...] - ETA: 0s - loss: 0.7528 - accuracy: 0.7319\n",
      "Epoch 112: saving model to model/keypoint_classifier\\keypoint_classifier.hdf5\n",
      "34/34 [==============================] - 0s 7ms/step - loss: 0.7491 - accuracy: 0.7315 - val_loss: 0.3722 - val_accuracy: 0.9364\n",
      "Epoch 113/1000\n",
      "29/34 [========================>.....] - ETA: 0s - loss: 0.7189 - accuracy: 0.7381\n",
      "Epoch 113: saving model to model/keypoint_classifier\\keypoint_classifier.hdf5\n",
      "34/34 [==============================] - 0s 7ms/step - loss: 0.7127 - accuracy: 0.7423 - val_loss: 0.3628 - val_accuracy: 0.9413\n",
      "Epoch 114/1000\n",
      "31/34 [==========================>...] - ETA: 0s - loss: 0.7505 - accuracy: 0.7344\n",
      "Epoch 114: saving model to model/keypoint_classifier\\keypoint_classifier.hdf5\n",
      "34/34 [==============================] - 0s 7ms/step - loss: 0.7488 - accuracy: 0.7346 - val_loss: 0.3604 - val_accuracy: 0.9392\n",
      "Epoch 115/1000\n",
      "29/34 [========================>.....] - ETA: 0s - loss: 0.7382 - accuracy: 0.7258\n",
      "Epoch 115: saving model to model/keypoint_classifier\\keypoint_classifier.hdf5\n",
      "34/34 [==============================] - 0s 8ms/step - loss: 0.7452 - accuracy: 0.7256 - val_loss: 0.3706 - val_accuracy: 0.9350\n",
      "Epoch 116/1000\n",
      "32/34 [===========================>..] - ETA: 0s - loss: 0.7370 - accuracy: 0.7271\n",
      "Epoch 116: saving model to model/keypoint_classifier\\keypoint_classifier.hdf5\n",
      "34/34 [==============================] - 0s 7ms/step - loss: 0.7323 - accuracy: 0.7298 - val_loss: 0.3701 - val_accuracy: 0.9364\n",
      "Epoch 117/1000\n",
      "29/34 [========================>.....] - ETA: 0s - loss: 0.7400 - accuracy: 0.7330\n",
      "Epoch 117: saving model to model/keypoint_classifier\\keypoint_classifier.hdf5\n",
      "34/34 [==============================] - 0s 9ms/step - loss: 0.7315 - accuracy: 0.7336 - val_loss: 0.3670 - val_accuracy: 0.9435\n",
      "Epoch 118/1000\n",
      "24/34 [====================>.........] - ETA: 0s - loss: 0.7487 - accuracy: 0.7256\n",
      "Epoch 118: saving model to model/keypoint_classifier\\keypoint_classifier.hdf5\n",
      "34/34 [==============================] - 0s 10ms/step - loss: 0.7417 - accuracy: 0.7256 - val_loss: 0.3659 - val_accuracy: 0.9378\n",
      "Epoch 119/1000\n",
      "34/34 [==============================] - ETA: 0s - loss: 0.7137 - accuracy: 0.7348\n",
      "Epoch 119: saving model to model/keypoint_classifier\\keypoint_classifier.hdf5\n",
      "34/34 [==============================] - 0s 9ms/step - loss: 0.7137 - accuracy: 0.7348 - val_loss: 0.3593 - val_accuracy: 0.9357\n",
      "Epoch 120/1000\n",
      "28/34 [=======================>......] - ETA: 0s - loss: 0.7364 - accuracy: 0.7310\n",
      "Epoch 120: saving model to model/keypoint_classifier\\keypoint_classifier.hdf5\n",
      "34/34 [==============================] - 0s 8ms/step - loss: 0.7329 - accuracy: 0.7303 - val_loss: 0.3568 - val_accuracy: 0.9428\n",
      "Epoch 121/1000\n",
      "32/34 [===========================>..] - ETA: 0s - loss: 0.7188 - accuracy: 0.7375\n",
      "Epoch 121: saving model to model/keypoint_classifier\\keypoint_classifier.hdf5\n",
      "34/34 [==============================] - 0s 9ms/step - loss: 0.7222 - accuracy: 0.7360 - val_loss: 0.3584 - val_accuracy: 0.9406\n",
      "Epoch 122/1000\n",
      "31/34 [==========================>...] - ETA: 0s - loss: 0.7017 - accuracy: 0.7387\n",
      "Epoch 122: saving model to model/keypoint_classifier\\keypoint_classifier.hdf5\n",
      "34/34 [==============================] - 0s 7ms/step - loss: 0.7040 - accuracy: 0.7393 - val_loss: 0.3556 - val_accuracy: 0.9357\n",
      "Epoch 123/1000\n",
      "27/34 [======================>.......] - ETA: 0s - loss: 0.7163 - accuracy: 0.7306\n",
      "Epoch 123: saving model to model/keypoint_classifier\\keypoint_classifier.hdf5\n",
      "34/34 [==============================] - 0s 8ms/step - loss: 0.7193 - accuracy: 0.7258 - val_loss: 0.3560 - val_accuracy: 0.9406\n",
      "Epoch 124/1000\n",
      "32/34 [===========================>..] - ETA: 0s - loss: 0.7081 - accuracy: 0.7480\n",
      "Epoch 124: saving model to model/keypoint_classifier\\keypoint_classifier.hdf5\n",
      "34/34 [==============================] - 0s 7ms/step - loss: 0.7076 - accuracy: 0.7471 - val_loss: 0.3573 - val_accuracy: 0.9392\n",
      "Epoch 125/1000\n",
      "29/34 [========================>.....] - ETA: 0s - loss: 0.7211 - accuracy: 0.7376\n",
      "Epoch 125: saving model to model/keypoint_classifier\\keypoint_classifier.hdf5\n",
      "34/34 [==============================] - 0s 8ms/step - loss: 0.7157 - accuracy: 0.7402 - val_loss: 0.3488 - val_accuracy: 0.9420\n",
      "Epoch 126/1000\n",
      "28/34 [=======================>......] - ETA: 0s - loss: 0.7181 - accuracy: 0.7335\n",
      "Epoch 126: saving model to model/keypoint_classifier\\keypoint_classifier.hdf5\n",
      "34/34 [==============================] - 0s 8ms/step - loss: 0.7215 - accuracy: 0.7353 - val_loss: 0.3524 - val_accuracy: 0.9350\n",
      "Epoch 127/1000\n",
      "21/34 [=================>............] - ETA: 0s - loss: 0.7148 - accuracy: 0.7407\n",
      "Epoch 127: saving model to model/keypoint_classifier\\keypoint_classifier.hdf5\n",
      "34/34 [==============================] - 0s 9ms/step - loss: 0.7196 - accuracy: 0.7334 - val_loss: 0.3586 - val_accuracy: 0.9314\n",
      "Epoch 128/1000\n",
      "30/34 [=========================>....] - ETA: 0s - loss: 0.7135 - accuracy: 0.7341\n",
      "Epoch 128: saving model to model/keypoint_classifier\\keypoint_classifier.hdf5\n",
      "34/34 [==============================] - 0s 7ms/step - loss: 0.7170 - accuracy: 0.7329 - val_loss: 0.3543 - val_accuracy: 0.9449\n",
      "Epoch 129/1000\n",
      "30/34 [=========================>....] - ETA: 0s - loss: 0.7278 - accuracy: 0.7414\n",
      "Epoch 129: saving model to model/keypoint_classifier\\keypoint_classifier.hdf5\n",
      "34/34 [==============================] - 0s 8ms/step - loss: 0.7379 - accuracy: 0.7400 - val_loss: 0.3570 - val_accuracy: 0.9428\n",
      "Epoch 130/1000\n",
      "28/34 [=======================>......] - ETA: 0s - loss: 0.7141 - accuracy: 0.7391\n",
      "Epoch 130: saving model to model/keypoint_classifier\\keypoint_classifier.hdf5\n",
      "34/34 [==============================] - 0s 8ms/step - loss: 0.7167 - accuracy: 0.7388 - val_loss: 0.3545 - val_accuracy: 0.9420\n",
      "Epoch 131/1000\n",
      "26/34 [=====================>........] - ETA: 0s - loss: 0.7071 - accuracy: 0.7434\n",
      "Epoch 131: saving model to model/keypoint_classifier\\keypoint_classifier.hdf5\n",
      "34/34 [==============================] - 0s 8ms/step - loss: 0.7183 - accuracy: 0.7402 - val_loss: 0.3547 - val_accuracy: 0.9378\n",
      "Epoch 132/1000\n",
      "32/34 [===========================>..] - ETA: 0s - loss: 0.7116 - accuracy: 0.7424\n",
      "Epoch 132: saving model to model/keypoint_classifier\\keypoint_classifier.hdf5\n",
      "34/34 [==============================] - 0s 7ms/step - loss: 0.7101 - accuracy: 0.7426 - val_loss: 0.3615 - val_accuracy: 0.9399\n",
      "Epoch 133/1000\n",
      "24/34 [====================>.........] - ETA: 0s - loss: 0.7115 - accuracy: 0.7425\n",
      "Epoch 133: saving model to model/keypoint_classifier\\keypoint_classifier.hdf5\n",
      "34/34 [==============================] - 0s 9ms/step - loss: 0.7123 - accuracy: 0.7449 - val_loss: 0.3565 - val_accuracy: 0.9336\n",
      "Epoch 134/1000\n",
      "23/34 [===================>..........] - ETA: 0s - loss: 0.7312 - accuracy: 0.7361\n",
      "Epoch 134: saving model to model/keypoint_classifier\\keypoint_classifier.hdf5\n",
      "34/34 [==============================] - 0s 10ms/step - loss: 0.7257 - accuracy: 0.7346 - val_loss: 0.3537 - val_accuracy: 0.9364\n",
      "Epoch 135/1000\n",
      "25/34 [=====================>........] - ETA: 0s - loss: 0.7079 - accuracy: 0.7444\n",
      "Epoch 135: saving model to model/keypoint_classifier\\keypoint_classifier.hdf5\n",
      "34/34 [==============================] - 0s 8ms/step - loss: 0.7189 - accuracy: 0.7362 - val_loss: 0.3570 - val_accuracy: 0.9314\n"
     ]
    },
    {
     "name": "stdout",
     "output_type": "stream",
     "text": [
      "Epoch 136/1000\n",
      "32/34 [===========================>..] - ETA: 0s - loss: 0.7169 - accuracy: 0.7327\n",
      "Epoch 136: saving model to model/keypoint_classifier\\keypoint_classifier.hdf5\n",
      "34/34 [==============================] - 0s 7ms/step - loss: 0.7092 - accuracy: 0.7364 - val_loss: 0.3460 - val_accuracy: 0.9463\n",
      "Epoch 137/1000\n",
      "29/34 [========================>.....] - ETA: 0s - loss: 0.7205 - accuracy: 0.7403\n",
      "Epoch 137: saving model to model/keypoint_classifier\\keypoint_classifier.hdf5\n",
      "34/34 [==============================] - 0s 8ms/step - loss: 0.7135 - accuracy: 0.7419 - val_loss: 0.3532 - val_accuracy: 0.9399\n",
      "Epoch 138/1000\n",
      "31/34 [==========================>...] - ETA: 0s - loss: 0.7148 - accuracy: 0.7417\n",
      "Epoch 138: saving model to model/keypoint_classifier\\keypoint_classifier.hdf5\n",
      "34/34 [==============================] - 0s 9ms/step - loss: 0.7212 - accuracy: 0.7379 - val_loss: 0.3534 - val_accuracy: 0.9399\n",
      "Epoch 139/1000\n",
      "30/34 [=========================>....] - ETA: 0s - loss: 0.7010 - accuracy: 0.7466\n",
      "Epoch 139: saving model to model/keypoint_classifier\\keypoint_classifier.hdf5\n",
      "34/34 [==============================] - 0s 7ms/step - loss: 0.7017 - accuracy: 0.7475 - val_loss: 0.3407 - val_accuracy: 0.9420\n",
      "Epoch 140/1000\n",
      "30/34 [=========================>....] - ETA: 0s - loss: 0.7127 - accuracy: 0.7391\n",
      "Epoch 140: saving model to model/keypoint_classifier\\keypoint_classifier.hdf5\n",
      "34/34 [==============================] - 0s 8ms/step - loss: 0.7113 - accuracy: 0.7374 - val_loss: 0.3484 - val_accuracy: 0.9385\n",
      "Epoch 141/1000\n",
      "30/34 [=========================>....] - ETA: 0s - loss: 0.6978 - accuracy: 0.7417\n",
      "Epoch 141: saving model to model/keypoint_classifier\\keypoint_classifier.hdf5\n",
      "34/34 [==============================] - 0s 8ms/step - loss: 0.7030 - accuracy: 0.7412 - val_loss: 0.3545 - val_accuracy: 0.9350\n",
      "Epoch 142/1000\n",
      "30/34 [=========================>....] - ETA: 0s - loss: 0.6854 - accuracy: 0.7456\n",
      "Epoch 142: saving model to model/keypoint_classifier\\keypoint_classifier.hdf5\n",
      "34/34 [==============================] - 0s 7ms/step - loss: 0.6859 - accuracy: 0.7445 - val_loss: 0.3501 - val_accuracy: 0.9371\n",
      "Epoch 143/1000\n",
      "27/34 [======================>.......] - ETA: 0s - loss: 0.6875 - accuracy: 0.7558\n",
      "Epoch 143: saving model to model/keypoint_classifier\\keypoint_classifier.hdf5\n",
      "34/34 [==============================] - 0s 7ms/step - loss: 0.6924 - accuracy: 0.7537 - val_loss: 0.3433 - val_accuracy: 0.9413\n",
      "Epoch 144/1000\n",
      "30/34 [=========================>....] - ETA: 0s - loss: 0.6985 - accuracy: 0.7471\n",
      "Epoch 144: saving model to model/keypoint_classifier\\keypoint_classifier.hdf5\n",
      "34/34 [==============================] - 0s 8ms/step - loss: 0.7045 - accuracy: 0.7416 - val_loss: 0.3467 - val_accuracy: 0.9364\n",
      "Epoch 145/1000\n",
      "31/34 [==========================>...] - ETA: 0s - loss: 0.7021 - accuracy: 0.7394\n",
      "Epoch 145: saving model to model/keypoint_classifier\\keypoint_classifier.hdf5\n",
      "34/34 [==============================] - 0s 8ms/step - loss: 0.6990 - accuracy: 0.7393 - val_loss: 0.3494 - val_accuracy: 0.9420\n",
      "Epoch 146/1000\n",
      "27/34 [======================>.......] - ETA: 0s - loss: 0.7194 - accuracy: 0.7323\n",
      "Epoch 146: saving model to model/keypoint_classifier\\keypoint_classifier.hdf5\n",
      "34/34 [==============================] - 0s 7ms/step - loss: 0.7115 - accuracy: 0.7395 - val_loss: 0.3479 - val_accuracy: 0.9350\n",
      "Epoch 147/1000\n",
      "27/34 [======================>.......] - ETA: 0s - loss: 0.7090 - accuracy: 0.7451\n",
      "Epoch 147: saving model to model/keypoint_classifier\\keypoint_classifier.hdf5\n",
      "34/34 [==============================] - 0s 8ms/step - loss: 0.7045 - accuracy: 0.7440 - val_loss: 0.3465 - val_accuracy: 0.9378\n",
      "Epoch 148/1000\n",
      "24/34 [====================>.........] - ETA: 0s - loss: 0.6996 - accuracy: 0.7451\n",
      "Epoch 148: saving model to model/keypoint_classifier\\keypoint_classifier.hdf5\n",
      "34/34 [==============================] - 0s 9ms/step - loss: 0.7103 - accuracy: 0.7445 - val_loss: 0.3409 - val_accuracy: 0.9392\n",
      "Epoch 149/1000\n",
      "31/34 [==========================>...] - ETA: 0s - loss: 0.7205 - accuracy: 0.7336\n",
      "Epoch 149: saving model to model/keypoint_classifier\\keypoint_classifier.hdf5\n",
      "34/34 [==============================] - 0s 7ms/step - loss: 0.7193 - accuracy: 0.7327 - val_loss: 0.3537 - val_accuracy: 0.9456\n",
      "Epoch 150/1000\n",
      "22/34 [==================>...........] - ETA: 0s - loss: 0.7006 - accuracy: 0.7404\n",
      "Epoch 150: saving model to model/keypoint_classifier\\keypoint_classifier.hdf5\n",
      "34/34 [==============================] - 0s 10ms/step - loss: 0.7062 - accuracy: 0.7357 - val_loss: 0.3445 - val_accuracy: 0.9420\n",
      "Epoch 151/1000\n",
      "28/34 [=======================>......] - ETA: 0s - loss: 0.6978 - accuracy: 0.7419\n",
      "Epoch 151: saving model to model/keypoint_classifier\\keypoint_classifier.hdf5\n",
      "34/34 [==============================] - 0s 8ms/step - loss: 0.7000 - accuracy: 0.7423 - val_loss: 0.3453 - val_accuracy: 0.9385\n",
      "Epoch 152/1000\n",
      "29/34 [========================>.....] - ETA: 0s - loss: 0.7029 - accuracy: 0.7489\n",
      "Epoch 152: saving model to model/keypoint_classifier\\keypoint_classifier.hdf5\n",
      "34/34 [==============================] - 0s 8ms/step - loss: 0.7036 - accuracy: 0.7463 - val_loss: 0.3469 - val_accuracy: 0.9364\n",
      "Epoch 153/1000\n",
      "22/34 [==================>...........] - ETA: 0s - loss: 0.7069 - accuracy: 0.7344\n",
      "Epoch 153: saving model to model/keypoint_classifier\\keypoint_classifier.hdf5\n",
      "34/34 [==============================] - 0s 9ms/step - loss: 0.6925 - accuracy: 0.7426 - val_loss: 0.3402 - val_accuracy: 0.9336\n",
      "Epoch 154/1000\n",
      "34/34 [==============================] - ETA: 0s - loss: 0.7080 - accuracy: 0.7468\n",
      "Epoch 154: saving model to model/keypoint_classifier\\keypoint_classifier.hdf5\n",
      "34/34 [==============================] - 0s 11ms/step - loss: 0.7080 - accuracy: 0.7468 - val_loss: 0.3384 - val_accuracy: 0.9484\n",
      "Epoch 155/1000\n",
      "34/34 [==============================] - ETA: 0s - loss: 0.6812 - accuracy: 0.7572\n",
      "Epoch 155: saving model to model/keypoint_classifier\\keypoint_classifier.hdf5\n",
      "34/34 [==============================] - 0s 12ms/step - loss: 0.6812 - accuracy: 0.7572 - val_loss: 0.3315 - val_accuracy: 0.9435\n",
      "Epoch 156/1000\n",
      "31/34 [==========================>...] - ETA: 0s - loss: 0.7139 - accuracy: 0.7382\n",
      "Epoch 156: saving model to model/keypoint_classifier\\keypoint_classifier.hdf5\n",
      "34/34 [==============================] - 0s 11ms/step - loss: 0.7160 - accuracy: 0.7379 - val_loss: 0.3385 - val_accuracy: 0.9484\n",
      "Epoch 157/1000\n",
      "30/34 [=========================>....] - ETA: 0s - loss: 0.7108 - accuracy: 0.7435\n",
      "Epoch 157: saving model to model/keypoint_classifier\\keypoint_classifier.hdf5\n",
      "34/34 [==============================] - 0s 12ms/step - loss: 0.7016 - accuracy: 0.7459 - val_loss: 0.3421 - val_accuracy: 0.9364\n",
      "Epoch 158/1000\n",
      "28/34 [=======================>......] - ETA: 0s - loss: 0.6782 - accuracy: 0.7517\n",
      "Epoch 158: saving model to model/keypoint_classifier\\keypoint_classifier.hdf5\n",
      "34/34 [==============================] - 0s 11ms/step - loss: 0.6922 - accuracy: 0.7485 - val_loss: 0.3406 - val_accuracy: 0.9399\n",
      "Epoch 159/1000\n",
      "25/34 [=====================>........] - ETA: 0s - loss: 0.6722 - accuracy: 0.7588\n",
      "Epoch 159: saving model to model/keypoint_classifier\\keypoint_classifier.hdf5\n",
      "34/34 [==============================] - 0s 9ms/step - loss: 0.6837 - accuracy: 0.7558 - val_loss: 0.3380 - val_accuracy: 0.9378\n",
      "Epoch 160/1000\n",
      "34/34 [==============================] - ETA: 0s - loss: 0.6945 - accuracy: 0.7430\n",
      "Epoch 160: saving model to model/keypoint_classifier\\keypoint_classifier.hdf5\n",
      "34/34 [==============================] - 0s 10ms/step - loss: 0.6945 - accuracy: 0.7430 - val_loss: 0.3407 - val_accuracy: 0.9392\n",
      "Epoch 161/1000\n",
      "24/34 [====================>.........] - ETA: 0s - loss: 0.7085 - accuracy: 0.7422\n",
      "Epoch 161: saving model to model/keypoint_classifier\\keypoint_classifier.hdf5\n",
      "34/34 [==============================] - 0s 9ms/step - loss: 0.6980 - accuracy: 0.7463 - val_loss: 0.3472 - val_accuracy: 0.9336\n",
      "Epoch 162/1000\n",
      "23/34 [===================>..........] - ETA: 0s - loss: 0.6858 - accuracy: 0.7514\n",
      "Epoch 162: saving model to model/keypoint_classifier\\keypoint_classifier.hdf5\n",
      "34/34 [==============================] - 0s 9ms/step - loss: 0.6867 - accuracy: 0.7492 - val_loss: 0.3358 - val_accuracy: 0.9378\n"
     ]
    },
    {
     "name": "stdout",
     "output_type": "stream",
     "text": [
      "Epoch 163/1000\n",
      "23/34 [===================>..........] - ETA: 0s - loss: 0.6981 - accuracy: 0.7381\n",
      "Epoch 163: saving model to model/keypoint_classifier\\keypoint_classifier.hdf5\n",
      "34/34 [==============================] - 0s 9ms/step - loss: 0.6884 - accuracy: 0.7473 - val_loss: 0.3347 - val_accuracy: 0.9456\n",
      "Epoch 164/1000\n",
      "25/34 [=====================>........] - ETA: 0s - loss: 0.6961 - accuracy: 0.7519\n",
      "Epoch 164: saving model to model/keypoint_classifier\\keypoint_classifier.hdf5\n",
      "34/34 [==============================] - 0s 8ms/step - loss: 0.6962 - accuracy: 0.7522 - val_loss: 0.3457 - val_accuracy: 0.9350\n",
      "Epoch 165/1000\n",
      "27/34 [======================>.......] - ETA: 0s - loss: 0.7015 - accuracy: 0.7497\n",
      "Epoch 165: saving model to model/keypoint_classifier\\keypoint_classifier.hdf5\n",
      "34/34 [==============================] - 0s 8ms/step - loss: 0.6997 - accuracy: 0.7480 - val_loss: 0.3323 - val_accuracy: 0.9435\n",
      "Epoch 166/1000\n",
      "24/34 [====================>.........] - ETA: 0s - loss: 0.6824 - accuracy: 0.7464\n",
      "Epoch 166: saving model to model/keypoint_classifier\\keypoint_classifier.hdf5\n",
      "34/34 [==============================] - 0s 9ms/step - loss: 0.6855 - accuracy: 0.7492 - val_loss: 0.3322 - val_accuracy: 0.9385\n",
      "Epoch 167/1000\n",
      "28/34 [=======================>......] - ETA: 0s - loss: 0.6832 - accuracy: 0.7525\n",
      "Epoch 167: saving model to model/keypoint_classifier\\keypoint_classifier.hdf5\n",
      "34/34 [==============================] - 0s 8ms/step - loss: 0.6805 - accuracy: 0.7532 - val_loss: 0.3410 - val_accuracy: 0.9428\n",
      "Epoch 168/1000\n",
      "25/34 [=====================>........] - ETA: 0s - loss: 0.6738 - accuracy: 0.7487\n",
      "Epoch 168: saving model to model/keypoint_classifier\\keypoint_classifier.hdf5\n",
      "34/34 [==============================] - 0s 8ms/step - loss: 0.6829 - accuracy: 0.7461 - val_loss: 0.3420 - val_accuracy: 0.9385\n",
      "Epoch 169/1000\n",
      "29/34 [========================>.....] - ETA: 0s - loss: 0.7008 - accuracy: 0.7462\n",
      "Epoch 169: saving model to model/keypoint_classifier\\keypoint_classifier.hdf5\n",
      "34/34 [==============================] - 0s 7ms/step - loss: 0.7029 - accuracy: 0.7430 - val_loss: 0.3481 - val_accuracy: 0.9449\n",
      "Epoch 170/1000\n",
      "26/34 [=====================>........] - ETA: 0s - loss: 0.6841 - accuracy: 0.7527\n",
      "Epoch 170: saving model to model/keypoint_classifier\\keypoint_classifier.hdf5\n",
      "34/34 [==============================] - 0s 9ms/step - loss: 0.6961 - accuracy: 0.7513 - val_loss: 0.3509 - val_accuracy: 0.9350\n",
      "Epoch 171/1000\n",
      "32/34 [===========================>..] - ETA: 0s - loss: 0.6979 - accuracy: 0.7463\n",
      "Epoch 171: saving model to model/keypoint_classifier\\keypoint_classifier.hdf5\n",
      "34/34 [==============================] - 0s 10ms/step - loss: 0.6962 - accuracy: 0.7471 - val_loss: 0.3409 - val_accuracy: 0.9406\n",
      "Epoch 172/1000\n",
      "25/34 [=====================>........] - ETA: 0s - loss: 0.7048 - accuracy: 0.7450\n",
      "Epoch 172: saving model to model/keypoint_classifier\\keypoint_classifier.hdf5\n",
      "34/34 [==============================] - 0s 9ms/step - loss: 0.6962 - accuracy: 0.7475 - val_loss: 0.3378 - val_accuracy: 0.9435\n",
      "Epoch 173/1000\n",
      "26/34 [=====================>........] - ETA: 0s - loss: 0.6980 - accuracy: 0.7422\n",
      "Epoch 173: saving model to model/keypoint_classifier\\keypoint_classifier.hdf5\n",
      "34/34 [==============================] - 0s 9ms/step - loss: 0.6995 - accuracy: 0.7454 - val_loss: 0.3503 - val_accuracy: 0.9371\n",
      "Epoch 174/1000\n",
      "32/34 [===========================>..] - ETA: 0s - loss: 0.6779 - accuracy: 0.7561\n",
      "Epoch 174: saving model to model/keypoint_classifier\\keypoint_classifier.hdf5\n",
      "34/34 [==============================] - 0s 10ms/step - loss: 0.6791 - accuracy: 0.7541 - val_loss: 0.3455 - val_accuracy: 0.9456\n",
      "Epoch 175/1000\n",
      "23/34 [===================>..........] - ETA: 0s - loss: 0.6969 - accuracy: 0.7412\n",
      "Epoch 175: saving model to model/keypoint_classifier\\keypoint_classifier.hdf5\n",
      "34/34 [==============================] - 0s 9ms/step - loss: 0.6981 - accuracy: 0.7428 - val_loss: 0.3467 - val_accuracy: 0.9399\n",
      "Epoch 175: early stopping\n"
     ]
    },
    {
     "data": {
      "text/plain": [
       "<keras.callbacks.History at 0x20df16bdf70>"
      ]
     },
     "execution_count": 11,
     "metadata": {},
     "output_type": "execute_result"
    }
   ],
   "source": [
    "model.fit(\n",
    "    X_train,\n",
    "    y_train,\n",
    "    epochs=1000,\n",
    "    batch_size=128,\n",
    "    validation_data=(X_test, y_test),\n",
    "    callbacks=[cp_callback, es_callback]\n",
    ")"
   ]
  },
  {
   "cell_type": "code",
   "execution_count": 12,
   "metadata": {
    "colab": {
     "base_uri": "https://localhost:8080/"
    },
    "id": "pxvb2Y299hE3",
    "outputId": "59eb3185-2e37-4b9e-bc9d-ab1b8ac29b7f"
   },
   "outputs": [
    {
     "name": "stdout",
     "output_type": "stream",
     "text": [
      "12/12 [==============================] - 0s 4ms/step - loss: 0.3467 - accuracy: 0.9399\n"
     ]
    }
   ],
   "source": [
    "# Model evaluation\n",
    "val_loss, val_acc = model.evaluate(X_test, y_test, batch_size=128)"
   ]
  },
  {
   "cell_type": "code",
   "execution_count": 13,
   "metadata": {
    "id": "RBkmDeUW9hE4"
   },
   "outputs": [],
   "source": [
    "# Loading the saved model\n",
    "model = tf.keras.models.load_model(model_save_path)"
   ]
  },
  {
   "cell_type": "code",
   "execution_count": 14,
   "metadata": {
    "colab": {
     "base_uri": "https://localhost:8080/"
    },
    "id": "tFz9Tb0I9hE4",
    "outputId": "1c3b3528-54ae-4ee2-ab04-77429211cbef"
   },
   "outputs": [
    {
     "name": "stdout",
     "output_type": "stream",
     "text": [
      "1/1 [==============================] - 0s 200ms/step\n",
      "[3.63596044e-02 5.55523336e-02 7.30301082e-01 1.03468185e-04\n",
      " 1.68427959e-01 3.45917715e-06 8.93194738e-06 2.64551068e-06\n",
      " 1.21950552e-06 1.45798481e-06 3.37359938e-03 5.85729815e-03\n",
      " 6.75962792e-06]\n",
      "2\n"
     ]
    }
   ],
   "source": [
    "# Inference test\n",
    "predict_result = model.predict(np.array([X_test[0]]))\n",
    "print(np.squeeze(predict_result))\n",
    "print(np.argmax(np.squeeze(predict_result)))"
   ]
  },
  {
   "cell_type": "markdown",
   "metadata": {
    "id": "S3U4yNWx9hE4"
   },
   "source": [
    "# Confusion matrix"
   ]
  },
  {
   "cell_type": "code",
   "execution_count": 15,
   "metadata": {
    "colab": {
     "base_uri": "https://localhost:8080/",
     "height": 582
    },
    "id": "AP1V6SCk9hE5",
    "outputId": "08e41a80-7a4a-4619-8125-ecc371368d19"
   },
   "outputs": [
    {
     "name": "stdout",
     "output_type": "stream",
     "text": [
      "45/45 [==============================] - 0s 3ms/step\n"
     ]
    },
    {
     "data": {
      "image/png": "[encoded data removed]",
      "text/plain": [
       "<Figure size 504x432 with 2 Axes>"
      ]
     },
     "metadata": {
      "needs_background": "light"
     },
     "output_type": "display_data"
    },
    {
     "name": "stdout",
     "output_type": "stream",
     "text": [
      "Classification Report\n",
      "              precision    recall  f1-score   support\n",
      "\n",
      "           0       0.95      0.97      0.96       413\n",
      "           1       0.98      0.89      0.93       382\n",
      "           2       0.86      0.98      0.92       350\n",
      "           3       0.99      1.00      0.99        73\n",
      "           4       1.00      0.90      0.95       121\n",
      "          10       0.00      0.00      0.00         4\n",
      "          11       0.98      0.88      0.93        72\n",
      "\n",
      "    accuracy                           0.94      1415\n",
      "   macro avg       0.82      0.80      0.81      1415\n",
      "weighted avg       0.94      0.94      0.94      1415\n",
      "\n"
     ]
    },
    {
     "name": "stderr",
     "output_type": "stream",
     "text": [
      "C:\\Users\\HP\\anaconda3\\envs\\PML\\lib\\site-packages\\sklearn\\metrics\\_classification.py:1327: UndefinedMetricWarning: Precision and F-score are ill-defined and being set to 0.0 in labels with no predicted samples. Use `zero_division` parameter to control this behavior.\n",
      "  _warn_prf(average, modifier, msg_start, len(result))\n",
      "C:\\Users\\HP\\anaconda3\\envs\\PML\\lib\\site-packages\\sklearn\\metrics\\_classification.py:1327: UndefinedMetricWarning: Precision and F-score are ill-defined and being set to 0.0 in labels with no predicted samples. Use `zero_division` parameter to control this behavior.\n",
      "  _warn_prf(average, modifier, msg_start, len(result))\n",
      "C:\\Users\\HP\\anaconda3\\envs\\PML\\lib\\site-packages\\sklearn\\metrics\\_classification.py:1327: UndefinedMetricWarning: Precision and F-score are ill-defined and being set to 0.0 in labels with no predicted samples. Use `zero_division` parameter to control this behavior.\n",
      "  _warn_prf(average, modifier, msg_start, len(result))\n"
     ]
    }
   ],
   "source": [
    "import pandas as pd\n",
    "import seaborn as sns\n",
    "import matplotlib.pyplot as plt\n",
    "from sklearn.metrics import confusion_matrix, classification_report\n",
    "\n",
    "def print_confusion_matrix(y_true, y_pred, report=True):\n",
    "    labels = sorted(list(set(y_true)))\n",
    "    cmx_data = confusion_matrix(y_true, y_pred, labels=labels)\n",
    "    \n",
    "    df_cmx = pd.DataFrame(cmx_data, index=labels, columns=labels)\n",
    " \n",
    "    fig, ax = plt.subplots(figsize=(7, 6))\n",
    "    sns.heatmap(df_cmx, annot=True, fmt='g' ,square=False)\n",
    "    ax.set_ylim(len(set(y_true)), 0)\n",
    "    plt.show()\n",
    "    \n",
    "    if report:\n",
    "        print('Classification Report')\n",
    "        print(classification_report(y_test, y_pred))\n",
    "\n",
    "Y_pred = model.predict(X_test)\n",
    "y_pred = np.argmax(Y_pred, axis=1)\n",
    "\n",
    "print_confusion_matrix(y_test, y_pred)"
   ]
  },
  {
   "cell_type": "markdown",
   "metadata": {
    "id": "FNP6aqzc9hE5"
   },
   "source": [
    "# Convert to model for Tensorflow-Lite"
   ]
  },
  {
   "cell_type": "code",
   "execution_count": 16,
   "metadata": {
    "id": "ODjnYyld9hE6"
   },
   "outputs": [],
   "source": [
    "# Save as a model dedicated to inference\n",
    "model.save(model_save_path, include_optimizer=False)"
   ]
  },
  {
   "cell_type": "code",
   "execution_count": 17,
   "metadata": {
    "colab": {
     "base_uri": "https://localhost:8080/"
    },
    "id": "zRfuK8Y59hE6",
    "outputId": "a4ca585c-b5d5-4244-8291-8674063209bb"
   },
   "outputs": [
    {
     "name": "stdout",
     "output_type": "stream",
     "text": [
      "INFO:tensorflow:Assets written to: C:\\Users\\HP\\AppData\\Local\\Temp\\tmp1hvvc5l0\\assets\n"
     ]
    },
    {
     "data": {
      "text/plain": [
       "6884"
      ]
     },
     "execution_count": 17,
     "metadata": {},
     "output_type": "execute_result"
    }
   ],
   "source": [
    "# Transform model (quantization)\n",
    "\n",
    "converter = tf.lite.TFLiteConverter.from_keras_model(model)\n",
    "converter.optimizations = [tf.lite.Optimize.DEFAULT]\n",
    "tflite_quantized_model = converter.convert()\n",
    "\n",
    "open(tflite_save_path, 'wb').write(tflite_quantized_model)"
   ]
  },
  {
   "cell_type": "markdown",
   "metadata": {
    "id": "CHBPBXdx9hE6"
   },
   "source": [
    "# Inference test"
   ]
  },
  {
   "cell_type": "code",
   "execution_count": 18,
   "metadata": {
    "id": "mGAzLocO9hE7"
   },
   "outputs": [],
   "source": [
    "interpreter = tf.lite.Interpreter(model_path=tflite_save_path)\n",
    "interpreter.allocate_tensors()"
   ]
  },
  {
   "cell_type": "code",
   "execution_count": 19,
   "metadata": {
    "id": "oQuDK8YS9hE7"
   },
   "outputs": [],
   "source": [
    "# Get I / O tensor\n",
    "input_details = interpreter.get_input_details()\n",
    "output_details = interpreter.get_output_details()"
   ]
  },
  {
   "cell_type": "code",
   "execution_count": 20,
   "metadata": {
    "id": "2_ixAf_l9hE7"
   },
   "outputs": [],
   "source": [
    "interpreter.set_tensor(input_details[0]['index'], np.array([X_test[0]]))"
   ]
  },
  {
   "cell_type": "code",
   "execution_count": 21,
   "metadata": {
    "colab": {
     "base_uri": "https://localhost:8080/"
    },
    "id": "s4FoAnuc9hE7",
    "outputId": "91f18257-8d8b-4ef3-c558-e9b5f94fabbf",
    "scrolled": true
   },
   "outputs": [
    {
     "name": "stdout",
     "output_type": "stream",
     "text": [
      "CPU times: total: 0 ns\n",
      "Wall time: 0 ns\n"
     ]
    }
   ],
   "source": [
    "%%time\n",
    "# Inference implementation\n",
    "interpreter.invoke()\n",
    "tflite_results = interpreter.get_tensor(output_details[0]['index'])"
   ]
  },
  {
   "cell_type": "code",
   "execution_count": 22,
   "metadata": {
    "colab": {
     "base_uri": "https://localhost:8080/"
    },
    "id": "vONjp19J9hE8",
    "outputId": "77205e24-fd00-42c4-f7b6-e06e527c2cba"
   },
   "outputs": [
    {
     "name": "stdout",
     "output_type": "stream",
     "text": [
      "[3.6359616e-02 5.5552356e-02 7.3030108e-01 1.0346817e-04 1.6842800e-01\n",
      " 3.4591772e-06 8.9319465e-06 2.6455082e-06 1.2195042e-06 1.4579847e-06\n",
      " 3.3736005e-03 5.8572982e-03 6.7596279e-06]\n",
      "2\n"
     ]
    }
   ],
   "source": [
    "print(np.squeeze(tflite_results))\n",
    "print(np.argmax(np.squeeze(tflite_results)))"
   ]
  }
 ],
 "metadata": {
  "accelerator": "GPU",
  "colab": {
   "collapsed_sections": [],
   "name": "keypoint_classification_EN.ipynb",
   "provenance": [],
   "toc_visible": true
  },
  "kernelspec": {
   "display_name": "Python (myenv)",
   "language": "python",
   "name": "myenv"
  },
  "language_info": {
   "codemirror_mode": {
    "name": "ipython",
    "version": 3
   },
   "file_extension": ".py",
   "mimetype": "text/x-python",
   "name": "python",
   "nbconvert_exporter": "python",
   "pygments_lexer": "ipython3",
   "version": "3.8.13"
  }
 },
 "nbformat": 4,
 "nbformat_minor": 1
}
